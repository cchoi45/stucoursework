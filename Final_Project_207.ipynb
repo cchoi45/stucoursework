{
 "cells": [
  {
   "attachments": {},
   "cell_type": "markdown",
   "metadata": {},
   "source": [
    "# STAT207 Final Project - Airbnb Host"
   ]
  },
  {
   "cell_type": "code",
   "execution_count": 261,
   "metadata": {},
   "outputs": [],
   "source": [
    "import pandas as pd\n",
    "import numpy as np\n",
    "import seaborn as sns\n",
    "import matplotlib.pyplot as plt\n",
    "\n",
    "from sklearn.linear_model import LinearRegression\n",
    "from sklearn.preprocessing import PolynomialFeatures\n",
    "from sklearn.model_selection import train_test_split\n",
    "from sklearn.metrics import mean_squared_error\n",
    "\n",
    "import statsmodels.formula.api as smf\n",
    "\n",
    "import warnings\n",
    "from sklearn.exceptions import ConvergenceWarning\n",
    "warnings.simplefilter(action='ignore', category=FutureWarning)\n",
    "warnings.simplefilter(action='ignore', category=ConvergenceWarning)\n",
    "warnings.filterwarnings(\"ignore\", message=\"Maximum Likelihood optimization failed to\")\n",
    "\n",
    "from sklearn.metrics import confusion_matrix"
   ]
  },
  {
   "cell_type": "markdown",
   "metadata": {},
   "source": [
    "## 1. Introduction"
   ]
  },
  {
   "cell_type": "markdown",
   "metadata": {},
   "source": [
    "#### Research Introduction and Motivation\n",
    "\n",
    "Understanding what makes an homestay listing reliable is important, especially with the growing popularity of online marketplaces for short & long-term homestays and experiences like Airbnb.\n",
    "\n",
    "A predictive model that predicts the probability of verification would aid users to assess the trustworthiness and credibility of a host for more security in their booking. Verification status is often a universal signifier of trust & credibility as it usually proves a host has undergone a verification process by Airbnb, which may involve providing identification documents. Airbnb claims its verification process confirms a host’s personal information, “such as your legal name, address, phone number, and other contact details”(Airbnb, Inc., 2023). They may also ask for a photo of the host’s government ID and a selfie.\n",
    "\n",
    "Airbnb guests could benefit from this predictive model, as “guests prefer to stay with verified hosts to ensure a smooth rental process and accountability”(Krone, 2023). Airbnb hosts could also use the predictive model to tailor its marketing and communication strategies. Highlighting verified hosts in promotional efforts can attract more users, emphasizing the safety and reliability of their listing. Both people would desire a model that is better at classifying the positives of our response variable, verification. For hosts, a model that accurately identifies verified hosts could help hosts stand out, potentially leading to more bookings. Guests also benefit from a model that accurately classifies positive verifications, as it could aid in identifying listings with trustworthy hosts, providing a higher sense of safety & security in the booking.\n",
    "\n",
    "#### Citations:\n",
    "\n",
    "* Krones, T. (2023, October 16). Airbnb ID Verification Time: A Guide for Hosts. Host Tools. https://hosttools.com/blog/short-term-rental-tips/airbnb-id-verification/#:~:text=Guests%20prefer%20to%20stay%20with,a%20home%20or%20Airbnb%20Experience\n",
    "* Airbnb, Inc., https://www.airbnb.com/help/article/1237#:~:text=Verifying%20the%20identity%20of%20guests,where%20permitted%20under%20applicable%20laws\n",
    "\n",
    "#### Research Goal Statement\n",
    "\n",
    "The primary research goal that we will pursue in this lab will be to build a predictive model that effectively predicts the `probability a Seattle Airbnb host is  **verified**` for *new Seattle Airbnb listings/hosts* given some combination of the `'price', 'review_scores_rating', 'number_of_reviews', 'security_deposit', 'cleaning_fee', 'property_type'`.\n",
    "\n",
    "* The 'price' variable represents the price of the Airbnb listing per night in USD. A higher price could be associated with a perception of higher quality, potentially influencing the probability of verification.\n",
    "* The 'review_scores_rating' represents the average rating of the listing out of 100. Hosts with high review scores are more likely to be perceived as more reliable, and has potential to increase the probability of verification.\n",
    "* The 'number_of_reviews' represents the number of reviews for the listing, it could display history of positive interactions potentially influencing the probability of verification.\n",
    "* 'security_deposit' represents the security deposit required for the listing in USD, unverified hosts could likely demand a lower security deposit to make up for their unverified status.\n",
    "* 'cleaning_fee' represents the cleaning fee required for the listing in USD, the fee amount could potentially differ for verified and unverified hosts.\n",
    "* 'property_type' indicates the type of property the listing is ('House' or 'Apartment'). Expectations regarding verification could vary for different property types.\n",
    "\n",
    "Ideally, the predictive model that we select will also be able to accurately reflect the relationship between the explanatory variables and the response variable 'Verification' (Secondary Research Goal), providing insight into which variables have the most impact on a Seattle Airbnb host's verification."
   ]
  },
  {
   "cell_type": "markdown",
   "metadata": {},
   "source": [
    "## 2. Dataset Discussion"
   ]
  },
  {
   "cell_type": "markdown",
   "metadata": {},
   "source": [
    "#### Dataset Display"
   ]
  },
  {
   "cell_type": "code",
   "execution_count": 262,
   "metadata": {},
   "outputs": [
    {
     "data": {
      "text/html": [
       "<div>\n",
       "<style scoped>\n",
       "    .dataframe tbody tr th:only-of-type {\n",
       "        vertical-align: middle;\n",
       "    }\n",
       "\n",
       "    .dataframe tbody tr th {\n",
       "        vertical-align: top;\n",
       "    }\n",
       "\n",
       "    .dataframe thead th {\n",
       "        text-align: right;\n",
       "    }\n",
       "</style>\n",
       "<table border=\"1\" class=\"dataframe\">\n",
       "  <thead>\n",
       "    <tr style=\"text-align: right;\">\n",
       "      <th></th>\n",
       "      <th>price</th>\n",
       "      <th>review_scores_rating</th>\n",
       "      <th>number_of_reviews</th>\n",
       "      <th>security_deposit</th>\n",
       "      <th>cleaning_fee</th>\n",
       "      <th>neighborhood</th>\n",
       "      <th>property_type</th>\n",
       "      <th>room_type</th>\n",
       "      <th>accommodates</th>\n",
       "      <th>bathrooms</th>\n",
       "      <th>beds</th>\n",
       "      <th>host_response_time</th>\n",
       "      <th>host_response_rate</th>\n",
       "      <th>host_is_superhost</th>\n",
       "      <th>host_has_profile_pic</th>\n",
       "      <th>host_identity_verified</th>\n",
       "    </tr>\n",
       "  </thead>\n",
       "  <tbody>\n",
       "    <tr>\n",
       "      <th>0</th>\n",
       "      <td>300</td>\n",
       "      <td>100</td>\n",
       "      <td>24</td>\n",
       "      <td>500</td>\n",
       "      <td>95</td>\n",
       "      <td>Wallingford</td>\n",
       "      <td>House</td>\n",
       "      <td>Entire home/apt</td>\n",
       "      <td>5</td>\n",
       "      <td>1.5</td>\n",
       "      <td>3</td>\n",
       "      <td>within a few hours</td>\n",
       "      <td>1.0</td>\n",
       "      <td>t</td>\n",
       "      <td>t</td>\n",
       "      <td>t</td>\n",
       "    </tr>\n",
       "    <tr>\n",
       "      <th>1</th>\n",
       "      <td>149</td>\n",
       "      <td>96</td>\n",
       "      <td>11</td>\n",
       "      <td>300</td>\n",
       "      <td>105</td>\n",
       "      <td>Wallingford</td>\n",
       "      <td>Apartment</td>\n",
       "      <td>Entire home/apt</td>\n",
       "      <td>6</td>\n",
       "      <td>1.0</td>\n",
       "      <td>3</td>\n",
       "      <td>within an hour</td>\n",
       "      <td>1.0</td>\n",
       "      <td>f</td>\n",
       "      <td>t</td>\n",
       "      <td>t</td>\n",
       "    </tr>\n",
       "    <tr>\n",
       "      <th>2</th>\n",
       "      <td>95</td>\n",
       "      <td>95</td>\n",
       "      <td>79</td>\n",
       "      <td>150</td>\n",
       "      <td>40</td>\n",
       "      <td>Wallingford</td>\n",
       "      <td>Apartment</td>\n",
       "      <td>Entire home/apt</td>\n",
       "      <td>3</td>\n",
       "      <td>1.0</td>\n",
       "      <td>2</td>\n",
       "      <td>within an hour</td>\n",
       "      <td>1.0</td>\n",
       "      <td>f</td>\n",
       "      <td>t</td>\n",
       "      <td>t</td>\n",
       "    </tr>\n",
       "    <tr>\n",
       "      <th>3</th>\n",
       "      <td>105</td>\n",
       "      <td>100</td>\n",
       "      <td>13</td>\n",
       "      <td>500</td>\n",
       "      <td>50</td>\n",
       "      <td>Wallingford</td>\n",
       "      <td>House</td>\n",
       "      <td>Private room</td>\n",
       "      <td>2</td>\n",
       "      <td>2.0</td>\n",
       "      <td>1</td>\n",
       "      <td>within a few hours</td>\n",
       "      <td>1.0</td>\n",
       "      <td>t</td>\n",
       "      <td>t</td>\n",
       "      <td>t</td>\n",
       "    </tr>\n",
       "    <tr>\n",
       "      <th>4</th>\n",
       "      <td>140</td>\n",
       "      <td>99</td>\n",
       "      <td>30</td>\n",
       "      <td>250</td>\n",
       "      <td>65</td>\n",
       "      <td>Wallingford</td>\n",
       "      <td>House</td>\n",
       "      <td>Entire home/apt</td>\n",
       "      <td>2</td>\n",
       "      <td>1.0</td>\n",
       "      <td>1</td>\n",
       "      <td>within an hour</td>\n",
       "      <td>1.0</td>\n",
       "      <td>t</td>\n",
       "      <td>t</td>\n",
       "      <td>t</td>\n",
       "    </tr>\n",
       "  </tbody>\n",
       "</table>\n",
       "</div>"
      ],
      "text/plain": [
       "   price  review_scores_rating  number_of_reviews  security_deposit  \\\n",
       "0    300                   100                 24               500   \n",
       "1    149                    96                 11               300   \n",
       "2     95                    95                 79               150   \n",
       "3    105                   100                 13               500   \n",
       "4    140                    99                 30               250   \n",
       "\n",
       "   cleaning_fee neighborhood property_type        room_type  accommodates  \\\n",
       "0            95  Wallingford         House  Entire home/apt             5   \n",
       "1           105  Wallingford     Apartment  Entire home/apt             6   \n",
       "2            40  Wallingford     Apartment  Entire home/apt             3   \n",
       "3            50  Wallingford         House     Private room             2   \n",
       "4            65  Wallingford         House  Entire home/apt             2   \n",
       "\n",
       "   bathrooms  beds  host_response_time  host_response_rate host_is_superhost  \\\n",
       "0        1.5     3  within a few hours                 1.0                 t   \n",
       "1        1.0     3      within an hour                 1.0                 f   \n",
       "2        1.0     2      within an hour                 1.0                 f   \n",
       "3        2.0     1  within a few hours                 1.0                 t   \n",
       "4        1.0     1      within an hour                 1.0                 t   \n",
       "\n",
       "  host_has_profile_pic host_identity_verified  \n",
       "0                    t                      t  \n",
       "1                    t                      t  \n",
       "2                    t                      t  \n",
       "3                    t                      t  \n",
       "4                    t                      t  "
      ]
     },
     "execution_count": 262,
     "metadata": {},
     "output_type": "execute_result"
    }
   ],
   "source": [
    "df = pd.read_csv('seattle_airbnb_listings_cleaned.csv')\n",
    "df.head()"
   ]
  },
  {
   "cell_type": "code",
   "execution_count": 263,
   "metadata": {},
   "outputs": [
    {
     "data": {
      "text/plain": [
       "339"
      ]
     },
     "execution_count": 263,
     "metadata": {},
     "output_type": "execute_result"
    }
   ],
   "source": [
    "df.shape[0]"
   ]
  },
  {
   "cell_type": "markdown",
   "metadata": {},
   "source": [
    "#### Dataset Source\n",
    "\n",
    "We originally found this dataset in our STAT 207 course assignments, but it is sourced from the website Inside Airbnb.\n",
    "\n",
    "Source link:http://insideairbnb.com/get-the-data/\n",
    "\n",
    "We downloaded this CSV file November 2023."
   ]
  },
  {
   "cell_type": "markdown",
   "metadata": {},
   "source": [
    "#### Dataset Information\n",
    "\n",
    "The dataset contains the following information about the Airbnb listing:\n",
    "\n",
    "price: price of the listing (per night)(in US dollars)\n",
    "\n",
    "review_scores_rating: the average rating of the listing [0,100] (100 is the best)\n",
    "\n",
    "number_of_reviews: the number of reviews for the listing\n",
    "\n",
    "security_deposit: the security deposit required for the listing (in US dollars)\n",
    "\n",
    "cleaning_fee: the cleaning fee required for the listing (in US dollars)\n",
    "\n",
    "neighborhood: the neighborhood of Seattle the listing is located in\n",
    "\n",
    "property_type: is the listing in a 'House' or 'Apartment'\n",
    "\n",
    "room_type: is the listing a 'Entire home/apt', 'Private room', or 'Shared room'\n",
    "\n",
    "accommodates: how many guests will the listing accommodate\n",
    "\n",
    "bathrooms:how many bathrooms does the listing have\n",
    "\n",
    "beds: how many beds does the listing have\n",
    "\n",
    "host_response_time: how fast will the host respond to requests (on average)\n",
    "\n",
    "host_response_rate: how consistently a host responds within 24 hours to guest inquiries and booking requests\n",
    "\n",
    "host_has_profile_pic:does the host have a profile pic in their bio: t=True, f=False\n",
    "\n",
    "host_identity_verified: if the host identify has been 'verified': t=True, f=False\n",
    "\n",
    "Inside Airbnb data is sourced from publicly available information from the Airbnb site. All datasets on their website have been analyzed cleaned, and aggregated. This dataset is not necessarily inclusive of all possible types of observations. It does not include details such as location coordinates, amenities, or detailed property descriptions, all observations that could contribute to a host's verification status.\n",
    "\n",
    "We recognize our dataset is not completely comprehensive, and we are aware our findings may be more limited to generalization, as well as areas of application becoming more limited. To make our model more generalizable to our research question, we included a 6th explanatory variable to increase its complexity."
   ]
  },
  {
   "cell_type": "markdown",
   "metadata": {},
   "source": [
    "#### Selected Variables\n",
    "\n",
    "<u>Response Variable:</u>\n",
    "We intend to use `host_identity_verified` as our response variable in determining the best model that predicts whether a host identify has been 'verified': t=True, f=False.\n",
    "\n",
    "<u>Explanatory Variables:<u/>\n",
    "`'price', 'review_scores_rating', 'number_of_reviews', 'security_deposit', 'cleaning_fee', 'property_type'.`\n",
    "\n",
    "We chose to focus on these variables as they seemed most likely to influence or provide insights into the pricing and desirability of a listing. They also had the most variability within the dataset."
   ]
  },
  {
   "cell_type": "markdown",
   "metadata": {},
   "source": [
    "## 3. Dataset Cleaning"
   ]
  },
  {
   "cell_type": "code",
   "execution_count": 264,
   "metadata": {},
   "outputs": [
    {
     "data": {
      "text/html": [
       "<div>\n",
       "<style scoped>\n",
       "    .dataframe tbody tr th:only-of-type {\n",
       "        vertical-align: middle;\n",
       "    }\n",
       "\n",
       "    .dataframe tbody tr th {\n",
       "        vertical-align: top;\n",
       "    }\n",
       "\n",
       "    .dataframe thead th {\n",
       "        text-align: right;\n",
       "    }\n",
       "</style>\n",
       "<table border=\"1\" class=\"dataframe\">\n",
       "  <thead>\n",
       "    <tr style=\"text-align: right;\">\n",
       "      <th></th>\n",
       "      <th>price</th>\n",
       "      <th>review_scores_rating</th>\n",
       "      <th>number_of_reviews</th>\n",
       "      <th>security_deposit</th>\n",
       "      <th>cleaning_fee</th>\n",
       "      <th>property_type</th>\n",
       "      <th>host_identity_verified</th>\n",
       "    </tr>\n",
       "  </thead>\n",
       "  <tbody>\n",
       "    <tr>\n",
       "      <th>0</th>\n",
       "      <td>300</td>\n",
       "      <td>100</td>\n",
       "      <td>24</td>\n",
       "      <td>500</td>\n",
       "      <td>95</td>\n",
       "      <td>House</td>\n",
       "      <td>t</td>\n",
       "    </tr>\n",
       "    <tr>\n",
       "      <th>1</th>\n",
       "      <td>149</td>\n",
       "      <td>96</td>\n",
       "      <td>11</td>\n",
       "      <td>300</td>\n",
       "      <td>105</td>\n",
       "      <td>Apartment</td>\n",
       "      <td>t</td>\n",
       "    </tr>\n",
       "    <tr>\n",
       "      <th>2</th>\n",
       "      <td>95</td>\n",
       "      <td>95</td>\n",
       "      <td>79</td>\n",
       "      <td>150</td>\n",
       "      <td>40</td>\n",
       "      <td>Apartment</td>\n",
       "      <td>t</td>\n",
       "    </tr>\n",
       "    <tr>\n",
       "      <th>3</th>\n",
       "      <td>105</td>\n",
       "      <td>100</td>\n",
       "      <td>13</td>\n",
       "      <td>500</td>\n",
       "      <td>50</td>\n",
       "      <td>House</td>\n",
       "      <td>t</td>\n",
       "    </tr>\n",
       "    <tr>\n",
       "      <th>4</th>\n",
       "      <td>140</td>\n",
       "      <td>99</td>\n",
       "      <td>30</td>\n",
       "      <td>250</td>\n",
       "      <td>65</td>\n",
       "      <td>House</td>\n",
       "      <td>t</td>\n",
       "    </tr>\n",
       "    <tr>\n",
       "      <th>...</th>\n",
       "      <td>...</td>\n",
       "      <td>...</td>\n",
       "      <td>...</td>\n",
       "      <td>...</td>\n",
       "      <td>...</td>\n",
       "      <td>...</td>\n",
       "      <td>...</td>\n",
       "    </tr>\n",
       "    <tr>\n",
       "      <th>334</th>\n",
       "      <td>250</td>\n",
       "      <td>95</td>\n",
       "      <td>4</td>\n",
       "      <td>250</td>\n",
       "      <td>100</td>\n",
       "      <td>House</td>\n",
       "      <td>t</td>\n",
       "    </tr>\n",
       "    <tr>\n",
       "      <th>335</th>\n",
       "      <td>125</td>\n",
       "      <td>95</td>\n",
       "      <td>12</td>\n",
       "      <td>150</td>\n",
       "      <td>45</td>\n",
       "      <td>Apartment</td>\n",
       "      <td>t</td>\n",
       "    </tr>\n",
       "    <tr>\n",
       "      <th>336</th>\n",
       "      <td>100</td>\n",
       "      <td>98</td>\n",
       "      <td>10</td>\n",
       "      <td>200</td>\n",
       "      <td>89</td>\n",
       "      <td>Apartment</td>\n",
       "      <td>t</td>\n",
       "    </tr>\n",
       "    <tr>\n",
       "      <th>337</th>\n",
       "      <td>175</td>\n",
       "      <td>96</td>\n",
       "      <td>29</td>\n",
       "      <td>500</td>\n",
       "      <td>95</td>\n",
       "      <td>House</td>\n",
       "      <td>t</td>\n",
       "    </tr>\n",
       "    <tr>\n",
       "      <th>338</th>\n",
       "      <td>154</td>\n",
       "      <td>92</td>\n",
       "      <td>5</td>\n",
       "      <td>150</td>\n",
       "      <td>85</td>\n",
       "      <td>House</td>\n",
       "      <td>t</td>\n",
       "    </tr>\n",
       "  </tbody>\n",
       "</table>\n",
       "<p>339 rows × 7 columns</p>\n",
       "</div>"
      ],
      "text/plain": [
       "     price  review_scores_rating  number_of_reviews  security_deposit  \\\n",
       "0      300                   100                 24               500   \n",
       "1      149                    96                 11               300   \n",
       "2       95                    95                 79               150   \n",
       "3      105                   100                 13               500   \n",
       "4      140                    99                 30               250   \n",
       "..     ...                   ...                ...               ...   \n",
       "334    250                    95                  4               250   \n",
       "335    125                    95                 12               150   \n",
       "336    100                    98                 10               200   \n",
       "337    175                    96                 29               500   \n",
       "338    154                    92                  5               150   \n",
       "\n",
       "     cleaning_fee property_type host_identity_verified  \n",
       "0              95         House                      t  \n",
       "1             105     Apartment                      t  \n",
       "2              40     Apartment                      t  \n",
       "3              50         House                      t  \n",
       "4              65         House                      t  \n",
       "..            ...           ...                    ...  \n",
       "334           100         House                      t  \n",
       "335            45     Apartment                      t  \n",
       "336            89     Apartment                      t  \n",
       "337            95         House                      t  \n",
       "338            85         House                      t  \n",
       "\n",
       "[339 rows x 7 columns]"
      ]
     },
     "execution_count": 264,
     "metadata": {},
     "output_type": "execute_result"
    }
   ],
   "source": [
    "df_new = df.loc[:, ['price', 'review_scores_rating', 'number_of_reviews', 'security_deposit', 'cleaning_fee', 'property_type', 'host_identity_verified']]\n",
    "df_new"
   ]
  },
  {
   "cell_type": "code",
   "execution_count": 265,
   "metadata": {},
   "outputs": [
    {
     "data": {
      "text/plain": [
       "price                      int64\n",
       "review_scores_rating       int64\n",
       "number_of_reviews          int64\n",
       "security_deposit           int64\n",
       "cleaning_fee               int64\n",
       "property_type             object\n",
       "host_identity_verified    object\n",
       "dtype: object"
      ]
     },
     "execution_count": 265,
     "metadata": {},
     "output_type": "execute_result"
    }
   ],
   "source": [
    "df_new.dtypes"
   ]
  },
  {
   "cell_type": "markdown",
   "metadata": {},
   "source": [
    "#### Missing Value Detection and Cleaning\n",
    "\n",
    "There are no implicit or explicit missing values in this dataset. We used the missing value detection through using dtypes and then used dropna() function to remove rows. As a result of it, we indicate that there is no missing value in price. \n",
    "Using this function (missing value cleaning technique) it has pros and cons such as pros being it will result in more accurate data,reducing the complexity of data preprocessing, and it ensures that analyses are performed on complete cases. The cons being having less dataset to work with and not having the full dataset also, it can lead to reduction in statistical power as there is a risk in potentially losing a valuable data. "
   ]
  },
  {
   "cell_type": "code",
   "execution_count": 266,
   "metadata": {},
   "outputs": [
    {
     "data": {
      "text/plain": [
       "0"
      ]
     },
     "execution_count": 266,
     "metadata": {},
     "output_type": "execute_result"
    }
   ],
   "source": [
    "df_new.dropna()\n",
    "df.shape[0] - df_new.shape[0] # no missing value in price"
   ]
  },
  {
   "cell_type": "code",
   "execution_count": 267,
   "metadata": {},
   "outputs": [
    {
     "data": {
      "text/plain": [
       "price\n",
       "100    16\n",
       "69     16\n",
       "150    14\n",
       "115    13\n",
       "40     12\n",
       "       ..\n",
       "124     1\n",
       "35      1\n",
       "168     1\n",
       "147     1\n",
       "154     1\n",
       "Name: count, Length: 109, dtype: int64"
      ]
     },
     "execution_count": 267,
     "metadata": {},
     "output_type": "execute_result"
    }
   ],
   "source": [
    "df_new['price'].value_counts()"
   ]
  },
  {
   "cell_type": "code",
   "execution_count": 268,
   "metadata": {},
   "outputs": [
    {
     "data": {
      "text/plain": [
       "review_scores_rating\n",
       "100    73\n",
       "95     41\n",
       "96     38\n",
       "97     32\n",
       "98     22\n",
       "90     21\n",
       "99     20\n",
       "93     20\n",
       "94     17\n",
       "80     12\n",
       "92      9\n",
       "88      7\n",
       "91      6\n",
       "89      3\n",
       "70      3\n",
       "87      3\n",
       "84      3\n",
       "72      2\n",
       "83      2\n",
       "20      1\n",
       "75      1\n",
       "85      1\n",
       "60      1\n",
       "86      1\n",
       "Name: count, dtype: int64"
      ]
     },
     "execution_count": 268,
     "metadata": {},
     "output_type": "execute_result"
    }
   ],
   "source": [
    "df_new['review_scores_rating'].value_counts()"
   ]
  },
  {
   "cell_type": "code",
   "execution_count": 269,
   "metadata": {},
   "outputs": [
    {
     "data": {
      "text/plain": [
       "number_of_reviews\n",
       "1      28\n",
       "4      24\n",
       "2      16\n",
       "5      15\n",
       "6      13\n",
       "       ..\n",
       "115     1\n",
       "124     1\n",
       "91      1\n",
       "43      1\n",
       "81      1\n",
       "Name: count, Length: 87, dtype: int64"
      ]
     },
     "execution_count": 269,
     "metadata": {},
     "output_type": "execute_result"
    }
   ],
   "source": [
    "df_new['number_of_reviews'].value_counts()"
   ]
  },
  {
   "cell_type": "code",
   "execution_count": 270,
   "metadata": {},
   "outputs": [
    {
     "data": {
      "text/plain": [
       "cleaning_fee\n",
       "50     39\n",
       "35     34\n",
       "60     31\n",
       "25     28\n",
       "40     22\n",
       "100    18\n",
       "30     17\n",
       "75     11\n",
       "45     11\n",
       "65     10\n",
       "80      9\n",
       "20      9\n",
       "10      8\n",
       "95      8\n",
       "105     6\n",
       "85      6\n",
       "125     5\n",
       "88      5\n",
       "39      5\n",
       "150     5\n",
       "15      4\n",
       "61      3\n",
       "72      3\n",
       "300     3\n",
       "28      3\n",
       "120     3\n",
       "90      3\n",
       "55      2\n",
       "175     2\n",
       "71      2\n",
       "89      2\n",
       "145     2\n",
       "5       2\n",
       "42      1\n",
       "108     1\n",
       "24      1\n",
       "18      1\n",
       "19      1\n",
       "78      1\n",
       "135     1\n",
       "250     1\n",
       "83      1\n",
       "87      1\n",
       "12      1\n",
       "38      1\n",
       "117     1\n",
       "70      1\n",
       "22      1\n",
       "195     1\n",
       "160     1\n",
       "67      1\n",
       "Name: count, dtype: int64"
      ]
     },
     "execution_count": 270,
     "metadata": {},
     "output_type": "execute_result"
    }
   ],
   "source": [
    "df_new['cleaning_fee'].value_counts()"
   ]
  },
  {
   "cell_type": "code",
   "execution_count": 271,
   "metadata": {},
   "outputs": [
    {
     "data": {
      "text/plain": [
       "property_type\n",
       "Apartment    197\n",
       "House        142\n",
       "Name: count, dtype: int64"
      ]
     },
     "execution_count": 271,
     "metadata": {},
     "output_type": "execute_result"
    }
   ],
   "source": [
    "df_new['property_type'].value_counts()"
   ]
  },
  {
   "cell_type": "code",
   "execution_count": 272,
   "metadata": {},
   "outputs": [
    {
     "data": {
      "text/plain": [
       "host_identity_verified\n",
       "t    296\n",
       "f     43\n",
       "Name: count, dtype: int64"
      ]
     },
     "execution_count": 272,
     "metadata": {},
     "output_type": "execute_result"
    }
   ],
   "source": [
    "df_new['host_identity_verified'].value_counts()"
   ]
  },
  {
   "cell_type": "markdown",
   "metadata": {},
   "source": [
    "#### Outlier Cleaning - Two Variable Outlier Inspection"
   ]
  },
  {
   "cell_type": "code",
   "execution_count": 273,
   "metadata": {},
   "outputs": [
    {
     "data": {
      "image/png": "[encoded data removed]",
      "text/plain": [
       "<Figure size 900x900 with 30 Axes>"
      ]
     },
     "metadata": {
      "needs_background": "light"
     },
     "output_type": "display_data"
    }
   ],
   "source": [
    "df_num = df_new[['price', 'review_scores_rating', 'number_of_reviews', 'security_deposit', 'cleaning_fee']]\n",
    "sns.pairplot(df_num)\n",
    "plt.show()"
   ]
  },
  {
   "cell_type": "code",
   "execution_count": 274,
   "metadata": {},
   "outputs": [
    {
     "data": {
      "text/html": [
       "<div>\n",
       "<style scoped>\n",
       "    .dataframe tbody tr th:only-of-type {\n",
       "        vertical-align: middle;\n",
       "    }\n",
       "\n",
       "    .dataframe tbody tr th {\n",
       "        vertical-align: top;\n",
       "    }\n",
       "\n",
       "    .dataframe thead th {\n",
       "        text-align: right;\n",
       "    }\n",
       "</style>\n",
       "<table border=\"1\" class=\"dataframe\">\n",
       "  <thead>\n",
       "    <tr style=\"text-align: right;\">\n",
       "      <th></th>\n",
       "      <th>price</th>\n",
       "      <th>review_scores_rating</th>\n",
       "      <th>number_of_reviews</th>\n",
       "      <th>security_deposit</th>\n",
       "      <th>cleaning_fee</th>\n",
       "      <th>property_type</th>\n",
       "      <th>host_identity_verified</th>\n",
       "    </tr>\n",
       "  </thead>\n",
       "  <tbody>\n",
       "    <tr>\n",
       "      <th>0</th>\n",
       "      <td>300</td>\n",
       "      <td>100</td>\n",
       "      <td>24</td>\n",
       "      <td>500</td>\n",
       "      <td>95</td>\n",
       "      <td>House</td>\n",
       "      <td>t</td>\n",
       "    </tr>\n",
       "    <tr>\n",
       "      <th>1</th>\n",
       "      <td>149</td>\n",
       "      <td>96</td>\n",
       "      <td>11</td>\n",
       "      <td>300</td>\n",
       "      <td>105</td>\n",
       "      <td>Apartment</td>\n",
       "      <td>t</td>\n",
       "    </tr>\n",
       "    <tr>\n",
       "      <th>2</th>\n",
       "      <td>95</td>\n",
       "      <td>95</td>\n",
       "      <td>79</td>\n",
       "      <td>150</td>\n",
       "      <td>40</td>\n",
       "      <td>Apartment</td>\n",
       "      <td>t</td>\n",
       "    </tr>\n",
       "    <tr>\n",
       "      <th>3</th>\n",
       "      <td>105</td>\n",
       "      <td>100</td>\n",
       "      <td>13</td>\n",
       "      <td>500</td>\n",
       "      <td>50</td>\n",
       "      <td>House</td>\n",
       "      <td>t</td>\n",
       "    </tr>\n",
       "    <tr>\n",
       "      <th>4</th>\n",
       "      <td>140</td>\n",
       "      <td>99</td>\n",
       "      <td>30</td>\n",
       "      <td>250</td>\n",
       "      <td>65</td>\n",
       "      <td>House</td>\n",
       "      <td>t</td>\n",
       "    </tr>\n",
       "    <tr>\n",
       "      <th>...</th>\n",
       "      <td>...</td>\n",
       "      <td>...</td>\n",
       "      <td>...</td>\n",
       "      <td>...</td>\n",
       "      <td>...</td>\n",
       "      <td>...</td>\n",
       "      <td>...</td>\n",
       "    </tr>\n",
       "    <tr>\n",
       "      <th>304</th>\n",
       "      <td>250</td>\n",
       "      <td>95</td>\n",
       "      <td>4</td>\n",
       "      <td>250</td>\n",
       "      <td>100</td>\n",
       "      <td>House</td>\n",
       "      <td>t</td>\n",
       "    </tr>\n",
       "    <tr>\n",
       "      <th>305</th>\n",
       "      <td>125</td>\n",
       "      <td>95</td>\n",
       "      <td>12</td>\n",
       "      <td>150</td>\n",
       "      <td>45</td>\n",
       "      <td>Apartment</td>\n",
       "      <td>t</td>\n",
       "    </tr>\n",
       "    <tr>\n",
       "      <th>306</th>\n",
       "      <td>100</td>\n",
       "      <td>98</td>\n",
       "      <td>10</td>\n",
       "      <td>200</td>\n",
       "      <td>89</td>\n",
       "      <td>Apartment</td>\n",
       "      <td>t</td>\n",
       "    </tr>\n",
       "    <tr>\n",
       "      <th>307</th>\n",
       "      <td>175</td>\n",
       "      <td>96</td>\n",
       "      <td>29</td>\n",
       "      <td>500</td>\n",
       "      <td>95</td>\n",
       "      <td>House</td>\n",
       "      <td>t</td>\n",
       "    </tr>\n",
       "    <tr>\n",
       "      <th>308</th>\n",
       "      <td>154</td>\n",
       "      <td>92</td>\n",
       "      <td>5</td>\n",
       "      <td>150</td>\n",
       "      <td>85</td>\n",
       "      <td>House</td>\n",
       "      <td>t</td>\n",
       "    </tr>\n",
       "  </tbody>\n",
       "</table>\n",
       "<p>309 rows × 7 columns</p>\n",
       "</div>"
      ],
      "text/plain": [
       "     price  review_scores_rating  number_of_reviews  security_deposit  \\\n",
       "0      300                   100                 24               500   \n",
       "1      149                    96                 11               300   \n",
       "2       95                    95                 79               150   \n",
       "3      105                   100                 13               500   \n",
       "4      140                    99                 30               250   \n",
       "..     ...                   ...                ...               ...   \n",
       "304    250                    95                  4               250   \n",
       "305    125                    95                 12               150   \n",
       "306    100                    98                 10               200   \n",
       "307    175                    96                 29               500   \n",
       "308    154                    92                  5               150   \n",
       "\n",
       "     cleaning_fee property_type host_identity_verified  \n",
       "0              95         House                      t  \n",
       "1             105     Apartment                      t  \n",
       "2              40     Apartment                      t  \n",
       "3              50         House                      t  \n",
       "4              65         House                      t  \n",
       "..            ...           ...                    ...  \n",
       "304           100         House                      t  \n",
       "305            45     Apartment                      t  \n",
       "306            89     Apartment                      t  \n",
       "307            95         House                      t  \n",
       "308            85         House                      t  \n",
       "\n",
       "[309 rows x 7 columns]"
      ]
     },
     "execution_count": 274,
     "metadata": {},
     "output_type": "execute_result"
    }
   ],
   "source": [
    "df_drop = df_new[df_new['price'] < 500]\n",
    "df_drop = df_drop[df_drop['review_scores_rating'] > 80]\n",
    "df_drop = df_drop[df_drop['number_of_reviews'] < 150]\n",
    "df_drop = df_drop[df_drop['security_deposit'] < 1000]\n",
    "df_drop = df_drop[df_drop['cleaning_fee'] < 200]\n",
    "df_drop.reset_index(drop=True)"
   ]
  },
  {
   "cell_type": "code",
   "execution_count": 275,
   "metadata": {},
   "outputs": [
    {
     "data": {
      "image/png": "[encoded data removed]",
      "text/plain": [
       "<Figure size 900x900 with 30 Axes>"
      ]
     },
     "metadata": {
      "needs_background": "light"
     },
     "output_type": "display_data"
    }
   ],
   "source": [
    "sns.pairplot(df_drop)\n",
    "plt.show()"
   ]
  },
  {
   "cell_type": "code",
   "execution_count": 276,
   "metadata": {},
   "outputs": [
    {
     "name": "stdout",
     "output_type": "stream",
     "text": [
      "rows dropped: 30\n",
      "current row count: 309\n"
     ]
    }
   ],
   "source": [
    "print(\"rows dropped:\", df_new.shape[0] - df_drop.shape[0])\n",
    "print(\"current row count:\", df_drop.shape[0])\n",
    "# number of rows dropped, after dropping outliers"
   ]
  },
  {
   "cell_type": "markdown",
   "metadata": {},
   "source": [
    "As we didn't have any implicit missing values, we concluded that there is no further data cleaning ideas were needed to be discovered at this stage of the research."
   ]
  },
  {
   "cell_type": "markdown",
   "metadata": {},
   "source": [
    "## 4. Preliminary Analysis"
   ]
  },
  {
   "cell_type": "markdown",
   "metadata": {},
   "source": [
    "#### Relationships between the Response Variable and the Explanatory Variables\n",
    "\n",
    "We indicated that 'price', 'cleaning_fee', and 'security_deposit' have strong relationships with the response variable. Due to higher values in these variables usually correspond to a higher likelihood of the host being verified as this is indicated by the increasing median of the response variable. The 'review_scores_rating' also shows a positive relationship, with higher ratings corresponding to a higher likelihood of verification. On the other hand, we can see in the boxplot that 'number_of_reviews' have weaker relationship with the host_identity_verified as how the spread and the median of the identity verified don't show a clear trend whether they increase or decrease as number of reviews change. This indicates that the quantity of reviews alone might not be a significant predictor of verification status. In summary, financial-related variables (price, cleaning fee, security deposit) and the quality indicator 'review_scores_rating' seem to have stronger relationships with the likelihood of a host being verified on Airbnb. In contrast, 'number_of_reviews' and 'property_type' may be less impactful in predicting verification status.\n",
    "\n",
    "\n",
    "\n",
    "\n",
    "\n",
    "\n"
   ]
  },
  {
   "cell_type": "code",
   "execution_count": 277,
   "metadata": {},
   "outputs": [
    {
     "data": {
      "text/html": [
       "<div>\n",
       "<style scoped>\n",
       "    .dataframe tbody tr th:only-of-type {\n",
       "        vertical-align: middle;\n",
       "    }\n",
       "\n",
       "    .dataframe tbody tr th {\n",
       "        vertical-align: top;\n",
       "    }\n",
       "\n",
       "    .dataframe thead th {\n",
       "        text-align: right;\n",
       "    }\n",
       "</style>\n",
       "<table border=\"1\" class=\"dataframe\">\n",
       "  <thead>\n",
       "    <tr style=\"text-align: right;\">\n",
       "      <th></th>\n",
       "      <th>price</th>\n",
       "      <th>review_scores_rating</th>\n",
       "      <th>number_of_reviews</th>\n",
       "      <th>security_deposit</th>\n",
       "      <th>cleaning_fee</th>\n",
       "      <th>property_type</th>\n",
       "      <th>host_identity_verified</th>\n",
       "      <th>y</th>\n",
       "    </tr>\n",
       "  </thead>\n",
       "  <tbody>\n",
       "    <tr>\n",
       "      <th>0</th>\n",
       "      <td>300</td>\n",
       "      <td>100</td>\n",
       "      <td>24</td>\n",
       "      <td>500</td>\n",
       "      <td>95</td>\n",
       "      <td>House</td>\n",
       "      <td>t</td>\n",
       "      <td>1</td>\n",
       "    </tr>\n",
       "    <tr>\n",
       "      <th>1</th>\n",
       "      <td>149</td>\n",
       "      <td>96</td>\n",
       "      <td>11</td>\n",
       "      <td>300</td>\n",
       "      <td>105</td>\n",
       "      <td>Apartment</td>\n",
       "      <td>t</td>\n",
       "      <td>1</td>\n",
       "    </tr>\n",
       "    <tr>\n",
       "      <th>2</th>\n",
       "      <td>95</td>\n",
       "      <td>95</td>\n",
       "      <td>79</td>\n",
       "      <td>150</td>\n",
       "      <td>40</td>\n",
       "      <td>Apartment</td>\n",
       "      <td>t</td>\n",
       "      <td>1</td>\n",
       "    </tr>\n",
       "    <tr>\n",
       "      <th>3</th>\n",
       "      <td>105</td>\n",
       "      <td>100</td>\n",
       "      <td>13</td>\n",
       "      <td>500</td>\n",
       "      <td>50</td>\n",
       "      <td>House</td>\n",
       "      <td>t</td>\n",
       "      <td>1</td>\n",
       "    </tr>\n",
       "    <tr>\n",
       "      <th>4</th>\n",
       "      <td>140</td>\n",
       "      <td>99</td>\n",
       "      <td>30</td>\n",
       "      <td>250</td>\n",
       "      <td>65</td>\n",
       "      <td>House</td>\n",
       "      <td>t</td>\n",
       "      <td>1</td>\n",
       "    </tr>\n",
       "    <tr>\n",
       "      <th>...</th>\n",
       "      <td>...</td>\n",
       "      <td>...</td>\n",
       "      <td>...</td>\n",
       "      <td>...</td>\n",
       "      <td>...</td>\n",
       "      <td>...</td>\n",
       "      <td>...</td>\n",
       "      <td>...</td>\n",
       "    </tr>\n",
       "    <tr>\n",
       "      <th>304</th>\n",
       "      <td>250</td>\n",
       "      <td>95</td>\n",
       "      <td>4</td>\n",
       "      <td>250</td>\n",
       "      <td>100</td>\n",
       "      <td>House</td>\n",
       "      <td>t</td>\n",
       "      <td>1</td>\n",
       "    </tr>\n",
       "    <tr>\n",
       "      <th>305</th>\n",
       "      <td>125</td>\n",
       "      <td>95</td>\n",
       "      <td>12</td>\n",
       "      <td>150</td>\n",
       "      <td>45</td>\n",
       "      <td>Apartment</td>\n",
       "      <td>t</td>\n",
       "      <td>1</td>\n",
       "    </tr>\n",
       "    <tr>\n",
       "      <th>306</th>\n",
       "      <td>100</td>\n",
       "      <td>98</td>\n",
       "      <td>10</td>\n",
       "      <td>200</td>\n",
       "      <td>89</td>\n",
       "      <td>Apartment</td>\n",
       "      <td>t</td>\n",
       "      <td>1</td>\n",
       "    </tr>\n",
       "    <tr>\n",
       "      <th>307</th>\n",
       "      <td>175</td>\n",
       "      <td>96</td>\n",
       "      <td>29</td>\n",
       "      <td>500</td>\n",
       "      <td>95</td>\n",
       "      <td>House</td>\n",
       "      <td>t</td>\n",
       "      <td>1</td>\n",
       "    </tr>\n",
       "    <tr>\n",
       "      <th>308</th>\n",
       "      <td>154</td>\n",
       "      <td>92</td>\n",
       "      <td>5</td>\n",
       "      <td>150</td>\n",
       "      <td>85</td>\n",
       "      <td>House</td>\n",
       "      <td>t</td>\n",
       "      <td>1</td>\n",
       "    </tr>\n",
       "  </tbody>\n",
       "</table>\n",
       "<p>309 rows × 8 columns</p>\n",
       "</div>"
      ],
      "text/plain": [
       "     price  review_scores_rating  number_of_reviews  security_deposit  \\\n",
       "0      300                   100                 24               500   \n",
       "1      149                    96                 11               300   \n",
       "2       95                    95                 79               150   \n",
       "3      105                   100                 13               500   \n",
       "4      140                    99                 30               250   \n",
       "..     ...                   ...                ...               ...   \n",
       "304    250                    95                  4               250   \n",
       "305    125                    95                 12               150   \n",
       "306    100                    98                 10               200   \n",
       "307    175                    96                 29               500   \n",
       "308    154                    92                  5               150   \n",
       "\n",
       "     cleaning_fee property_type host_identity_verified  y  \n",
       "0              95         House                      t  1  \n",
       "1             105     Apartment                      t  1  \n",
       "2              40     Apartment                      t  1  \n",
       "3              50         House                      t  1  \n",
       "4              65         House                      t  1  \n",
       "..            ...           ...                    ... ..  \n",
       "304           100         House                      t  1  \n",
       "305            45     Apartment                      t  1  \n",
       "306            89     Apartment                      t  1  \n",
       "307            95         House                      t  1  \n",
       "308            85         House                      t  1  \n",
       "\n",
       "[309 rows x 8 columns]"
      ]
     },
     "execution_count": 277,
     "metadata": {},
     "output_type": "execute_result"
    }
   ],
   "source": [
    "df_drop['y'] = df_drop['host_identity_verified'].replace({'t':1, 'f':0})\n",
    "df_drop.reset_index(drop=True)"
   ]
  },
  {
   "cell_type": "code",
   "execution_count": 278,
   "metadata": {},
   "outputs": [
    {
     "data": {
      "text/plain": [
       "Index(['price', 'review_scores_rating', 'number_of_reviews',\n",
       "       'security_deposit', 'cleaning_fee'],\n",
       "      dtype='object')"
      ]
     },
     "execution_count": 278,
     "metadata": {},
     "output_type": "execute_result"
    }
   ],
   "source": [
    "data_types = df_drop.dtypes\n",
    "num_cols = data_types[(data_types=='int64') | (data_types=='float64')].index \n",
    "num_cols = num_cols.drop('y')\n",
    "num_cols"
   ]
  },
  {
   "cell_type": "code",
   "execution_count": 279,
   "metadata": {},
   "outputs": [
    {
     "data": {
      "image/png": "[encoded data removed]",
      "text/plain": [
       "<Figure size 432x288 with 1 Axes>"
      ]
     },
     "metadata": {
      "needs_background": "light"
     },
     "output_type": "display_data"
    },
    {
     "data": {
      "image/png": "[encoded data removed]",
      "text/plain": [
       "<Figure size 432x288 with 1 Axes>"
      ]
     },
     "metadata": {
      "needs_background": "light"
     },
     "output_type": "display_data"
    },
    {
     "data": {
      "image/png": "[encoded data removed]",
      "text/plain": [
       "<Figure size 432x288 with 1 Axes>"
      ]
     },
     "metadata": {
      "needs_background": "light"
     },
     "output_type": "display_data"
    },
    {
     "data": {
      "image/png": "[encoded data removed]",
      "text/plain": [
       "<Figure size 432x288 with 1 Axes>"
      ]
     },
     "metadata": {
      "needs_background": "light"
     },
     "output_type": "display_data"
    },
    {
     "data": {
      "image/png": "[encoded data removed]",
      "text/plain": [
       "<Figure size 432x288 with 1 Axes>"
      ]
     },
     "metadata": {
      "needs_background": "light"
     },
     "output_type": "display_data"
    }
   ],
   "source": [
    "for col in num_cols:\n",
    "    sns.boxplot(x=col, y='host_identity_verified', data=df_drop) \n",
    "    plt.show()"
   ]
  },
  {
   "cell_type": "code",
   "execution_count": 280,
   "metadata": {},
   "outputs": [
    {
     "data": {
      "text/html": [
       "<div>\n",
       "<style scoped>\n",
       "    .dataframe tbody tr th:only-of-type {\n",
       "        vertical-align: middle;\n",
       "    }\n",
       "\n",
       "    .dataframe tbody tr th {\n",
       "        vertical-align: top;\n",
       "    }\n",
       "\n",
       "    .dataframe thead th {\n",
       "        text-align: right;\n",
       "    }\n",
       "</style>\n",
       "<table border=\"1\" class=\"dataframe\">\n",
       "  <thead>\n",
       "    <tr style=\"text-align: right;\">\n",
       "      <th>host_identity_verified</th>\n",
       "      <th>f</th>\n",
       "      <th>t</th>\n",
       "    </tr>\n",
       "    <tr>\n",
       "      <th>property_type</th>\n",
       "      <th></th>\n",
       "      <th></th>\n",
       "    </tr>\n",
       "  </thead>\n",
       "  <tbody>\n",
       "    <tr>\n",
       "      <th>Apartment</th>\n",
       "      <td>0.158470</td>\n",
       "      <td>0.841530</td>\n",
       "    </tr>\n",
       "    <tr>\n",
       "      <th>House</th>\n",
       "      <td>0.063492</td>\n",
       "      <td>0.936508</td>\n",
       "    </tr>\n",
       "  </tbody>\n",
       "</table>\n",
       "</div>"
      ],
      "text/plain": [
       "host_identity_verified         f         t\n",
       "property_type                             \n",
       "Apartment               0.158470  0.841530\n",
       "House                   0.063492  0.936508"
      ]
     },
     "execution_count": 280,
     "metadata": {},
     "output_type": "execute_result"
    }
   ],
   "source": [
    "# relationship betwen categorical explanatory varialbe 'property_type' and respons variable 'host_identity_verified'\n",
    "rel_var = pd.crosstab(df_drop['property_type'], df_drop['host_identity_verified'], normalize='index')\n",
    "rel_var"
   ]
  },
  {
   "cell_type": "code",
   "execution_count": 281,
   "metadata": {},
   "outputs": [
    {
     "data": {
      "image/png": "[encoded data removed]",
      "text/plain": [
       "<Figure size 432x288 with 1 Axes>"
      ]
     },
     "metadata": {
      "needs_background": "light"
     },
     "output_type": "display_data"
    }
   ],
   "source": [
    "rel_var.plot.bar()\n",
    "plt.ylabel('Relative Frequency')\n",
    "plt.show()"
   ]
  },
  {
   "cell_type": "markdown",
   "metadata": {},
   "source": [
    "#### Relationships between Explanatory Variable Pairs\n",
    "We indicated that there are visible associations between few explanatory variables. We found that there is a positive correlation of price, security deposit, and cleaning fee from the plots. We believe that it might be due to the listings with higher prices tend to require higher deposits and cleaning fee. Hence, that would suggest that more expensive listings on the platform are associated with higher incidental costs. On the other hand, the data does not display any strong linear patterns between the quality or quantity of reviews and the pricing structure of the listings. This separation suggests that the perceived quality of a listing, as indicated by review scores, and the host's experience, as suggested by the number of reviews, are less likely to be directly influenced by the financial parameters set by the hosts on the platform.\n",
    "\n",
    "\n"
   ]
  },
  {
   "cell_type": "code",
   "execution_count": 282,
   "metadata": {},
   "outputs": [
    {
     "data": {
      "image/png": "[encoded data removed]",
      "text/plain": [
       "<Figure size 900x900 with 30 Axes>"
      ]
     },
     "metadata": {
      "needs_background": "light"
     },
     "output_type": "display_data"
    }
   ],
   "source": [
    "df_num = df_drop[['price', 'review_scores_rating', 'number_of_reviews', 'security_deposit', 'cleaning_fee']].reset_index(drop=True)\n",
    "sns.pairplot(df_num)\n",
    "plt.show()"
   ]
  },
  {
   "cell_type": "code",
   "execution_count": 283,
   "metadata": {},
   "outputs": [
    {
     "data": {
      "image/png": "[encoded data removed]",
      "text/plain": [
       "<Figure size 432x288 with 1 Axes>"
      ]
     },
     "metadata": {
      "needs_background": "light"
     },
     "output_type": "display_data"
    },
    {
     "data": {
      "image/png": "[encoded data removed]",
      "text/plain": [
       "<Figure size 432x288 with 1 Axes>"
      ]
     },
     "metadata": {
      "needs_background": "light"
     },
     "output_type": "display_data"
    },
    {
     "data": {
      "image/png": "[encoded data removed]",
      "text/plain": [
       "<Figure size 432x288 with 1 Axes>"
      ]
     },
     "metadata": {
      "needs_background": "light"
     },
     "output_type": "display_data"
    },
    {
     "data": {
      "image/png": "[encoded data removed]",
      "text/plain": [
       "<Figure size 432x288 with 1 Axes>"
      ]
     },
     "metadata": {
      "needs_background": "light"
     },
     "output_type": "display_data"
    },
    {
     "data": {
      "image/png": "[encoded data removed]",
      "text/plain": [
       "<Figure size 432x288 with 1 Axes>"
      ]
     },
     "metadata": {
      "needs_background": "light"
     },
     "output_type": "display_data"
    }
   ],
   "source": [
    "for col in num_cols:\n",
    "    sns.boxplot(x=col, y='property_type', data=df_drop) \n",
    "    plt.show()"
   ]
  },
  {
   "cell_type": "markdown",
   "metadata": {},
   "source": [
    "#### Interaction Effects\n",
    "The regression outputs and interaction plots indicate that there are no strong interaction effects between the numerical explanatory variables (price, review scores rating, number of reviews, security deposit, and cleaning fee) and the categorical variable in predicting the response variable. The coefficients for these numerical variables are mostly not statistically significant, suggesting any interaction effect with the categorical variable is weak or non-existent as per the data provided."
   ]
  },
  {
   "cell_type": "code",
   "execution_count": 284,
   "metadata": {},
   "outputs": [
    {
     "data": {
      "image/png": "[encoded data removed]",
      "text/plain": [
       "<Figure size 449.25x360 with 1 Axes>"
      ]
     },
     "metadata": {
      "needs_background": "light"
     },
     "output_type": "display_data"
    },
    {
     "name": "stdout",
     "output_type": "stream",
     "text": [
      "Optimization terminated successfully.\n",
      "         Current function value: 0.222488\n",
      "         Iterations 7\n"
     ]
    },
    {
     "data": {
      "text/html": [
       "<table class=\"simpletable\">\n",
       "<tr>\n",
       "      <td></td>         <th>coef</th>     <th>std err</th>      <th>z</th>      <th>P>|z|</th>  <th>[0.025</th>    <th>0.975]</th>  \n",
       "</tr>\n",
       "<tr>\n",
       "  <th>Intercept</th> <td>    3.7672</td> <td>    0.751</td> <td>    5.015</td> <td> 0.000</td> <td>    2.295</td> <td>    5.240</td>\n",
       "</tr>\n",
       "<tr>\n",
       "  <th>price</th>     <td>   -0.0067</td> <td>    0.003</td> <td>   -1.937</td> <td> 0.053</td> <td>   -0.014</td> <td> 7.87e-05</td>\n",
       "</tr>\n",
       "</table>"
      ],
      "text/plain": [
       "<class 'statsmodels.iolib.table.SimpleTable'>"
      ]
     },
     "metadata": {},
     "output_type": "display_data"
    },
    {
     "name": "stdout",
     "output_type": "stream",
     "text": [
      "Optimization terminated successfully.\n",
      "         Current function value: 0.434711\n",
      "         Iterations 6\n"
     ]
    },
    {
     "data": {
      "text/html": [
       "<table class=\"simpletable\">\n",
       "<tr>\n",
       "      <td></td>         <th>coef</th>     <th>std err</th>      <th>z</th>      <th>P>|z|</th>  <th>[0.025</th>    <th>0.975]</th>  \n",
       "</tr>\n",
       "<tr>\n",
       "  <th>Intercept</th> <td>    1.1298</td> <td>    0.615</td> <td>    1.838</td> <td> 0.066</td> <td>   -0.075</td> <td>    2.335</td>\n",
       "</tr>\n",
       "<tr>\n",
       "  <th>price</th>     <td>    0.0045</td> <td>    0.005</td> <td>    0.908</td> <td> 0.364</td> <td>   -0.005</td> <td>    0.014</td>\n",
       "</tr>\n",
       "</table>"
      ],
      "text/plain": [
       "<class 'statsmodels.iolib.table.SimpleTable'>"
      ]
     },
     "metadata": {},
     "output_type": "display_data"
    }
   ],
   "source": [
    "# x = numerical exp var, y = resp var, hue = categorical exp var\n",
    "sns.lmplot(x='price', y='y', hue='property_type', data=df_drop, logistic=True, ci=False)\n",
    "plt.show()\n",
    "\n",
    "simple_log_model=smf.logit(\"y~property_type+price\", data=df_drop[df_drop['property_type']=='House']).fit()\n",
    "display(simple_log_model.summary().tables[1])\n",
    "\n",
    "simple_log_model=smf.logit(\"y~property_type+price\", data=df_drop[df_drop['property_type']=='Apartment']).fit()\n",
    "display(simple_log_model.summary().tables[1])"
   ]
  },
  {
   "cell_type": "markdown",
   "metadata": {},
   "source": []
  },
  {
   "cell_type": "code",
   "execution_count": 285,
   "metadata": {},
   "outputs": [
    {
     "data": {
      "image/png": "[encoded data removed]",
      "text/plain": [
       "<Figure size 449.25x360 with 1 Axes>"
      ]
     },
     "metadata": {
      "needs_background": "light"
     },
     "output_type": "display_data"
    },
    {
     "name": "stdout",
     "output_type": "stream",
     "text": [
      "Optimization terminated successfully.\n",
      "         Current function value: 0.236468\n",
      "         Iterations 7\n"
     ]
    },
    {
     "data": {
      "text/html": [
       "<table class=\"simpletable\">\n",
       "<tr>\n",
       "            <td></td>              <th>coef</th>     <th>std err</th>      <th>z</th>      <th>P>|z|</th>  <th>[0.025</th>    <th>0.975]</th>  \n",
       "</tr>\n",
       "<tr>\n",
       "  <th>Intercept</th>            <td>    2.8994</td> <td>    8.867</td> <td>    0.327</td> <td> 0.744</td> <td>  -14.480</td> <td>   20.279</td>\n",
       "</tr>\n",
       "<tr>\n",
       "  <th>review_scores_rating</th> <td>   -0.0022</td> <td>    0.093</td> <td>   -0.023</td> <td> 0.981</td> <td>   -0.184</td> <td>    0.180</td>\n",
       "</tr>\n",
       "</table>"
      ],
      "text/plain": [
       "<class 'statsmodels.iolib.table.SimpleTable'>"
      ]
     },
     "metadata": {},
     "output_type": "display_data"
    },
    {
     "name": "stdout",
     "output_type": "stream",
     "text": [
      "Optimization terminated successfully.\n",
      "         Current function value: 0.437114\n",
      "         Iterations 6\n"
     ]
    },
    {
     "data": {
      "text/html": [
       "<table class=\"simpletable\">\n",
       "<tr>\n",
       "            <td></td>              <th>coef</th>     <th>std err</th>      <th>z</th>      <th>P>|z|</th>  <th>[0.025</th>    <th>0.975]</th>  \n",
       "</tr>\n",
       "<tr>\n",
       "  <th>Intercept</th>            <td>    2.0033</td> <td>    5.542</td> <td>    0.361</td> <td> 0.718</td> <td>   -8.860</td> <td>   12.866</td>\n",
       "</tr>\n",
       "<tr>\n",
       "  <th>review_scores_rating</th> <td>   -0.0035</td> <td>    0.058</td> <td>   -0.060</td> <td> 0.952</td> <td>   -0.116</td> <td>    0.110</td>\n",
       "</tr>\n",
       "</table>"
      ],
      "text/plain": [
       "<class 'statsmodels.iolib.table.SimpleTable'>"
      ]
     },
     "metadata": {},
     "output_type": "display_data"
    }
   ],
   "source": [
    "# x = numerical exp var, y = resp var, hue = categorical exp var\n",
    "sns.lmplot(x='review_scores_rating', y='y', hue='property_type', data=df_drop, logistic=True, ci=False)\n",
    "plt.show()\n",
    "\n",
    "simple_log_model=smf.logit(\"y~property_type+review_scores_rating\", data=df_drop[df_drop['property_type']=='House']).fit()\n",
    "display(simple_log_model.summary().tables[1])\n",
    "\n",
    "simple_log_model=smf.logit(\"y~property_type+review_scores_rating\", data=df_drop[df_drop['property_type']=='Apartment']).fit()\n",
    "display(simple_log_model.summary().tables[1])"
   ]
  },
  {
   "cell_type": "code",
   "execution_count": 286,
   "metadata": {},
   "outputs": [
    {
     "data": {
      "image/png": "[encoded data removed]",
      "text/plain": [
       "<Figure size 449.25x360 with 1 Axes>"
      ]
     },
     "metadata": {
      "needs_background": "light"
     },
     "output_type": "display_data"
    },
    {
     "name": "stdout",
     "output_type": "stream",
     "text": [
      "Optimization terminated successfully.\n",
      "         Current function value: 0.236175\n",
      "         Iterations 7\n"
     ]
    },
    {
     "data": {
      "text/html": [
       "<table class=\"simpletable\">\n",
       "<tr>\n",
       "          <td></td>             <th>coef</th>     <th>std err</th>      <th>z</th>      <th>P>|z|</th>  <th>[0.025</th>    <th>0.975]</th>  \n",
       "</tr>\n",
       "<tr>\n",
       "  <th>Intercept</th>         <td>    2.6007</td> <td>    0.488</td> <td>    5.334</td> <td> 0.000</td> <td>    1.645</td> <td>    3.556</td>\n",
       "</tr>\n",
       "<tr>\n",
       "  <th>number_of_reviews</th> <td>    0.0038</td> <td>    0.014</td> <td>    0.267</td> <td> 0.790</td> <td>   -0.024</td> <td>    0.031</td>\n",
       "</tr>\n",
       "</table>"
      ],
      "text/plain": [
       "<class 'statsmodels.iolib.table.SimpleTable'>"
      ]
     },
     "metadata": {},
     "output_type": "display_data"
    },
    {
     "name": "stdout",
     "output_type": "stream",
     "text": [
      "Optimization terminated successfully.\n",
      "         Current function value: 0.427175\n",
      "         Iterations 6\n"
     ]
    },
    {
     "data": {
      "text/html": [
       "<table class=\"simpletable\">\n",
       "<tr>\n",
       "          <td></td>             <th>coef</th>     <th>std err</th>      <th>z</th>      <th>P>|z|</th>  <th>[0.025</th>    <th>0.975]</th>  \n",
       "</tr>\n",
       "<tr>\n",
       "  <th>Intercept</th>         <td>    1.2889</td> <td>    0.280</td> <td>    4.609</td> <td> 0.000</td> <td>    0.741</td> <td>    1.837</td>\n",
       "</tr>\n",
       "<tr>\n",
       "  <th>number_of_reviews</th> <td>    0.0161</td> <td>    0.010</td> <td>    1.690</td> <td> 0.091</td> <td>   -0.003</td> <td>    0.035</td>\n",
       "</tr>\n",
       "</table>"
      ],
      "text/plain": [
       "<class 'statsmodels.iolib.table.SimpleTable'>"
      ]
     },
     "metadata": {},
     "output_type": "display_data"
    }
   ],
   "source": [
    "# x = numerical exp var, y = resp var, hue = categorical exp var\n",
    "sns.lmplot(x='number_of_reviews', y='y', hue='property_type', data=df_drop, logistic=True, ci=False)\n",
    "plt.show()\n",
    "\n",
    "simple_log_model=smf.logit(\"y~property_type+number_of_reviews\", data=df_drop[df_drop['property_type']=='House']).fit()\n",
    "display(simple_log_model.summary().tables[1])\n",
    "\n",
    "simple_log_model=smf.logit(\"y~property_type+number_of_reviews\", data=df_drop[df_drop['property_type']=='Apartment']).fit()\n",
    "display(simple_log_model.summary().tables[1])"
   ]
  },
  {
   "cell_type": "code",
   "execution_count": 287,
   "metadata": {},
   "outputs": [
    {
     "data": {
      "image/png": "[encoded data removed]",
      "text/plain": [
       "<Figure size 449.25x360 with 1 Axes>"
      ]
     },
     "metadata": {
      "needs_background": "light"
     },
     "output_type": "display_data"
    },
    {
     "name": "stdout",
     "output_type": "stream",
     "text": [
      "Optimization terminated successfully.\n",
      "         Current function value: 0.231515\n",
      "         Iterations 7\n"
     ]
    },
    {
     "data": {
      "text/html": [
       "<table class=\"simpletable\">\n",
       "<tr>\n",
       "          <td></td>            <th>coef</th>     <th>std err</th>      <th>z</th>      <th>P>|z|</th>  <th>[0.025</th>    <th>0.975]</th>  \n",
       "</tr>\n",
       "<tr>\n",
       "  <th>Intercept</th>        <td>    1.7918</td> <td>    0.858</td> <td>    2.088</td> <td> 0.037</td> <td>    0.110</td> <td>    3.474</td>\n",
       "</tr>\n",
       "<tr>\n",
       "  <th>security_deposit</th> <td>    0.0037</td> <td>    0.004</td> <td>    1.065</td> <td> 0.287</td> <td>   -0.003</td> <td>    0.011</td>\n",
       "</tr>\n",
       "</table>"
      ],
      "text/plain": [
       "<class 'statsmodels.iolib.table.SimpleTable'>"
      ]
     },
     "metadata": {},
     "output_type": "display_data"
    },
    {
     "name": "stdout",
     "output_type": "stream",
     "text": [
      "Optimization terminated successfully.\n",
      "         Current function value: 0.436461\n",
      "         Iterations 6\n"
     ]
    },
    {
     "data": {
      "text/html": [
       "<table class=\"simpletable\">\n",
       "<tr>\n",
       "          <td></td>            <th>coef</th>     <th>std err</th>      <th>z</th>      <th>P>|z|</th>  <th>[0.025</th>    <th>0.975]</th>  \n",
       "</tr>\n",
       "<tr>\n",
       "  <th>Intercept</th>        <td>    1.8431</td> <td>    0.407</td> <td>    4.527</td> <td> 0.000</td> <td>    1.045</td> <td>    2.641</td>\n",
       "</tr>\n",
       "<tr>\n",
       "  <th>security_deposit</th> <td>   -0.0007</td> <td>    0.001</td> <td>   -0.500</td> <td> 0.617</td> <td>   -0.003</td> <td>    0.002</td>\n",
       "</tr>\n",
       "</table>"
      ],
      "text/plain": [
       "<class 'statsmodels.iolib.table.SimpleTable'>"
      ]
     },
     "metadata": {},
     "output_type": "display_data"
    }
   ],
   "source": [
    "# x = numerical exp var, y = resp var, hue = categorical exp var\n",
    "sns.lmplot(x='security_deposit', y='y', hue='property_type', data=df_drop, logistic=True, ci=False)\n",
    "plt.show()\n",
    "\n",
    "simple_log_model=smf.logit(\"y~property_type+security_deposit\", data=df_drop[df_drop['property_type']=='House']).fit()\n",
    "display(simple_log_model.summary().tables[1])\n",
    "\n",
    "simple_log_model=smf.logit(\"y~property_type+security_deposit\", data=df_drop[df_drop['property_type']=='Apartment']).fit()\n",
    "display(simple_log_model.summary().tables[1])"
   ]
  },
  {
   "cell_type": "code",
   "execution_count": 288,
   "metadata": {},
   "outputs": [
    {
     "data": {
      "image/png": "[encoded data removed]",
      "text/plain": [
       "<Figure size 449.25x360 with 1 Axes>"
      ]
     },
     "metadata": {
      "needs_background": "light"
     },
     "output_type": "display_data"
    },
    {
     "name": "stdout",
     "output_type": "stream",
     "text": [
      "Optimization terminated successfully.\n",
      "         Current function value: 0.234392\n",
      "         Iterations 7\n"
     ]
    },
    {
     "data": {
      "text/html": [
       "<table class=\"simpletable\">\n",
       "<tr>\n",
       "        <td></td>          <th>coef</th>     <th>std err</th>      <th>z</th>      <th>P>|z|</th>  <th>[0.025</th>    <th>0.975]</th>  \n",
       "</tr>\n",
       "<tr>\n",
       "  <th>Intercept</th>    <td>    3.0936</td> <td>    0.683</td> <td>    4.527</td> <td> 0.000</td> <td>    1.754</td> <td>    4.433</td>\n",
       "</tr>\n",
       "<tr>\n",
       "  <th>cleaning_fee</th> <td>   -0.0063</td> <td>    0.008</td> <td>   -0.749</td> <td> 0.454</td> <td>   -0.023</td> <td>    0.010</td>\n",
       "</tr>\n",
       "</table>"
      ],
      "text/plain": [
       "<class 'statsmodels.iolib.table.SimpleTable'>"
      ]
     },
     "metadata": {},
     "output_type": "display_data"
    },
    {
     "name": "stdout",
     "output_type": "stream",
     "text": [
      "Optimization terminated successfully.\n",
      "         Current function value: 0.437121\n",
      "         Iterations 6\n"
     ]
    },
    {
     "data": {
      "text/html": [
       "<table class=\"simpletable\">\n",
       "<tr>\n",
       "        <td></td>          <th>coef</th>     <th>std err</th>      <th>z</th>      <th>P>|z|</th>  <th>[0.025</th>    <th>0.975]</th>  \n",
       "</tr>\n",
       "<tr>\n",
       "  <th>Intercept</th>    <td>    1.6825</td> <td>    0.443</td> <td>    3.800</td> <td> 0.000</td> <td>    0.815</td> <td>    2.550</td>\n",
       "</tr>\n",
       "<tr>\n",
       "  <th>cleaning_fee</th> <td>   -0.0002</td> <td>    0.007</td> <td>   -0.033</td> <td> 0.974</td> <td>   -0.014</td> <td>    0.013</td>\n",
       "</tr>\n",
       "</table>"
      ],
      "text/plain": [
       "<class 'statsmodels.iolib.table.SimpleTable'>"
      ]
     },
     "metadata": {},
     "output_type": "display_data"
    }
   ],
   "source": [
    "# x = numerical exp var, y = resp var, hue = categorical exp var\n",
    "sns.lmplot(x='cleaning_fee', y='y', hue='property_type', data=df_drop, logistic=True, ci=False)\n",
    "plt.show()\n",
    "\n",
    "simple_log_model=smf.logit(\"y~property_type+cleaning_fee\", data=df_drop[df_drop['property_type']=='House']).fit()\n",
    "display(simple_log_model.summary().tables[1])\n",
    "\n",
    "simple_log_model=smf.logit(\"y~property_type+cleaning_fee\", data=df_drop[df_drop['property_type']=='Apartment']).fit()\n",
    "display(simple_log_model.summary().tables[1])"
   ]
  },
  {
   "cell_type": "markdown",
   "metadata": {},
   "source": [
    "## 5. Model Data Preprocessing"
   ]
  },
  {
   "cell_type": "markdown",
   "metadata": {},
   "source": [
    "#### Features Matrix and Target Array"
   ]
  },
  {
   "cell_type": "code",
   "execution_count": 289,
   "metadata": {},
   "outputs": [
    {
     "data": {
      "text/html": [
       "<div>\n",
       "<style scoped>\n",
       "    .dataframe tbody tr th:only-of-type {\n",
       "        vertical-align: middle;\n",
       "    }\n",
       "\n",
       "    .dataframe tbody tr th {\n",
       "        vertical-align: top;\n",
       "    }\n",
       "\n",
       "    .dataframe thead th {\n",
       "        text-align: right;\n",
       "    }\n",
       "</style>\n",
       "<table border=\"1\" class=\"dataframe\">\n",
       "  <thead>\n",
       "    <tr style=\"text-align: right;\">\n",
       "      <th></th>\n",
       "      <th>price</th>\n",
       "      <th>review_scores_rating</th>\n",
       "      <th>number_of_reviews</th>\n",
       "      <th>security_deposit</th>\n",
       "      <th>cleaning_fee</th>\n",
       "      <th>property_type</th>\n",
       "      <th>host_identity_verified</th>\n",
       "    </tr>\n",
       "  </thead>\n",
       "  <tbody>\n",
       "    <tr>\n",
       "      <th>0</th>\n",
       "      <td>300</td>\n",
       "      <td>100</td>\n",
       "      <td>24</td>\n",
       "      <td>500</td>\n",
       "      <td>95</td>\n",
       "      <td>House</td>\n",
       "      <td>t</td>\n",
       "    </tr>\n",
       "    <tr>\n",
       "      <th>1</th>\n",
       "      <td>149</td>\n",
       "      <td>96</td>\n",
       "      <td>11</td>\n",
       "      <td>300</td>\n",
       "      <td>105</td>\n",
       "      <td>Apartment</td>\n",
       "      <td>t</td>\n",
       "    </tr>\n",
       "    <tr>\n",
       "      <th>2</th>\n",
       "      <td>95</td>\n",
       "      <td>95</td>\n",
       "      <td>79</td>\n",
       "      <td>150</td>\n",
       "      <td>40</td>\n",
       "      <td>Apartment</td>\n",
       "      <td>t</td>\n",
       "    </tr>\n",
       "    <tr>\n",
       "      <th>3</th>\n",
       "      <td>105</td>\n",
       "      <td>100</td>\n",
       "      <td>13</td>\n",
       "      <td>500</td>\n",
       "      <td>50</td>\n",
       "      <td>House</td>\n",
       "      <td>t</td>\n",
       "    </tr>\n",
       "    <tr>\n",
       "      <th>4</th>\n",
       "      <td>140</td>\n",
       "      <td>99</td>\n",
       "      <td>30</td>\n",
       "      <td>250</td>\n",
       "      <td>65</td>\n",
       "      <td>House</td>\n",
       "      <td>t</td>\n",
       "    </tr>\n",
       "    <tr>\n",
       "      <th>...</th>\n",
       "      <td>...</td>\n",
       "      <td>...</td>\n",
       "      <td>...</td>\n",
       "      <td>...</td>\n",
       "      <td>...</td>\n",
       "      <td>...</td>\n",
       "      <td>...</td>\n",
       "    </tr>\n",
       "    <tr>\n",
       "      <th>304</th>\n",
       "      <td>250</td>\n",
       "      <td>95</td>\n",
       "      <td>4</td>\n",
       "      <td>250</td>\n",
       "      <td>100</td>\n",
       "      <td>House</td>\n",
       "      <td>t</td>\n",
       "    </tr>\n",
       "    <tr>\n",
       "      <th>305</th>\n",
       "      <td>125</td>\n",
       "      <td>95</td>\n",
       "      <td>12</td>\n",
       "      <td>150</td>\n",
       "      <td>45</td>\n",
       "      <td>Apartment</td>\n",
       "      <td>t</td>\n",
       "    </tr>\n",
       "    <tr>\n",
       "      <th>306</th>\n",
       "      <td>100</td>\n",
       "      <td>98</td>\n",
       "      <td>10</td>\n",
       "      <td>200</td>\n",
       "      <td>89</td>\n",
       "      <td>Apartment</td>\n",
       "      <td>t</td>\n",
       "    </tr>\n",
       "    <tr>\n",
       "      <th>307</th>\n",
       "      <td>175</td>\n",
       "      <td>96</td>\n",
       "      <td>29</td>\n",
       "      <td>500</td>\n",
       "      <td>95</td>\n",
       "      <td>House</td>\n",
       "      <td>t</td>\n",
       "    </tr>\n",
       "    <tr>\n",
       "      <th>308</th>\n",
       "      <td>154</td>\n",
       "      <td>92</td>\n",
       "      <td>5</td>\n",
       "      <td>150</td>\n",
       "      <td>85</td>\n",
       "      <td>House</td>\n",
       "      <td>t</td>\n",
       "    </tr>\n",
       "  </tbody>\n",
       "</table>\n",
       "<p>309 rows × 7 columns</p>\n",
       "</div>"
      ],
      "text/plain": [
       "     price  review_scores_rating  number_of_reviews  security_deposit  \\\n",
       "0      300                   100                 24               500   \n",
       "1      149                    96                 11               300   \n",
       "2       95                    95                 79               150   \n",
       "3      105                   100                 13               500   \n",
       "4      140                    99                 30               250   \n",
       "..     ...                   ...                ...               ...   \n",
       "304    250                    95                  4               250   \n",
       "305    125                    95                 12               150   \n",
       "306    100                    98                 10               200   \n",
       "307    175                    96                 29               500   \n",
       "308    154                    92                  5               150   \n",
       "\n",
       "     cleaning_fee property_type host_identity_verified  \n",
       "0              95         House                      t  \n",
       "1             105     Apartment                      t  \n",
       "2              40     Apartment                      t  \n",
       "3              50         House                      t  \n",
       "4              65         House                      t  \n",
       "..            ...           ...                    ...  \n",
       "304           100         House                      t  \n",
       "305            45     Apartment                      t  \n",
       "306            89     Apartment                      t  \n",
       "307            95         House                      t  \n",
       "308            85         House                      t  \n",
       "\n",
       "[309 rows x 7 columns]"
      ]
     },
     "execution_count": 289,
     "metadata": {},
     "output_type": "execute_result"
    }
   ],
   "source": [
    "# Features matrix\n",
    "feat_mat = df_drop.drop(['y'], axis=1).reset_index(drop=True)\n",
    "feat_mat"
   ]
  },
  {
   "cell_type": "code",
   "execution_count": 290,
   "metadata": {},
   "outputs": [
    {
     "data": {
      "text/plain": [
       "0      1\n",
       "1      1\n",
       "2      1\n",
       "3      1\n",
       "4      1\n",
       "      ..\n",
       "304    1\n",
       "305    1\n",
       "306    1\n",
       "307    1\n",
       "308    1\n",
       "Name: y, Length: 309, dtype: int64"
      ]
     },
     "execution_count": 290,
     "metadata": {},
     "output_type": "execute_result"
    }
   ],
   "source": [
    "# Target array\n",
    "tar_arr = df_drop['y'].reset_index(drop=True)\n",
    "tar_arr"
   ]
  },
  {
   "cell_type": "markdown",
   "metadata": {},
   "source": [
    "#### Explantory Variable Scaling\n",
    "* Because of our secondary research goal which focuses on model interpretability, you should scale your numerical explanatory variables."
   ]
  },
  {
   "cell_type": "code",
   "execution_count": 291,
   "metadata": {},
   "outputs": [
    {
     "data": {
      "text/html": [
       "<div>\n",
       "<style scoped>\n",
       "    .dataframe tbody tr th:only-of-type {\n",
       "        vertical-align: middle;\n",
       "    }\n",
       "\n",
       "    .dataframe tbody tr th {\n",
       "        vertical-align: top;\n",
       "    }\n",
       "\n",
       "    .dataframe thead th {\n",
       "        text-align: right;\n",
       "    }\n",
       "</style>\n",
       "<table border=\"1\" class=\"dataframe\">\n",
       "  <thead>\n",
       "    <tr style=\"text-align: right;\">\n",
       "      <th></th>\n",
       "      <th>price</th>\n",
       "      <th>review_scores_rating</th>\n",
       "      <th>number_of_reviews</th>\n",
       "      <th>security_deposit</th>\n",
       "      <th>cleaning_fee</th>\n",
       "    </tr>\n",
       "  </thead>\n",
       "  <tbody>\n",
       "    <tr>\n",
       "      <th>0</th>\n",
       "      <td>300</td>\n",
       "      <td>100</td>\n",
       "      <td>24</td>\n",
       "      <td>500</td>\n",
       "      <td>95</td>\n",
       "    </tr>\n",
       "    <tr>\n",
       "      <th>1</th>\n",
       "      <td>149</td>\n",
       "      <td>96</td>\n",
       "      <td>11</td>\n",
       "      <td>300</td>\n",
       "      <td>105</td>\n",
       "    </tr>\n",
       "    <tr>\n",
       "      <th>2</th>\n",
       "      <td>95</td>\n",
       "      <td>95</td>\n",
       "      <td>79</td>\n",
       "      <td>150</td>\n",
       "      <td>40</td>\n",
       "    </tr>\n",
       "    <tr>\n",
       "      <th>3</th>\n",
       "      <td>105</td>\n",
       "      <td>100</td>\n",
       "      <td>13</td>\n",
       "      <td>500</td>\n",
       "      <td>50</td>\n",
       "    </tr>\n",
       "    <tr>\n",
       "      <th>4</th>\n",
       "      <td>140</td>\n",
       "      <td>99</td>\n",
       "      <td>30</td>\n",
       "      <td>250</td>\n",
       "      <td>65</td>\n",
       "    </tr>\n",
       "    <tr>\n",
       "      <th>...</th>\n",
       "      <td>...</td>\n",
       "      <td>...</td>\n",
       "      <td>...</td>\n",
       "      <td>...</td>\n",
       "      <td>...</td>\n",
       "    </tr>\n",
       "    <tr>\n",
       "      <th>304</th>\n",
       "      <td>250</td>\n",
       "      <td>95</td>\n",
       "      <td>4</td>\n",
       "      <td>250</td>\n",
       "      <td>100</td>\n",
       "    </tr>\n",
       "    <tr>\n",
       "      <th>305</th>\n",
       "      <td>125</td>\n",
       "      <td>95</td>\n",
       "      <td>12</td>\n",
       "      <td>150</td>\n",
       "      <td>45</td>\n",
       "    </tr>\n",
       "    <tr>\n",
       "      <th>306</th>\n",
       "      <td>100</td>\n",
       "      <td>98</td>\n",
       "      <td>10</td>\n",
       "      <td>200</td>\n",
       "      <td>89</td>\n",
       "    </tr>\n",
       "    <tr>\n",
       "      <th>307</th>\n",
       "      <td>175</td>\n",
       "      <td>96</td>\n",
       "      <td>29</td>\n",
       "      <td>500</td>\n",
       "      <td>95</td>\n",
       "    </tr>\n",
       "    <tr>\n",
       "      <th>308</th>\n",
       "      <td>154</td>\n",
       "      <td>92</td>\n",
       "      <td>5</td>\n",
       "      <td>150</td>\n",
       "      <td>85</td>\n",
       "    </tr>\n",
       "  </tbody>\n",
       "</table>\n",
       "<p>309 rows × 5 columns</p>\n",
       "</div>"
      ],
      "text/plain": [
       "     price  review_scores_rating  number_of_reviews  security_deposit  \\\n",
       "0      300                   100                 24               500   \n",
       "1      149                    96                 11               300   \n",
       "2       95                    95                 79               150   \n",
       "3      105                   100                 13               500   \n",
       "4      140                    99                 30               250   \n",
       "..     ...                   ...                ...               ...   \n",
       "304    250                    95                  4               250   \n",
       "305    125                    95                 12               150   \n",
       "306    100                    98                 10               200   \n",
       "307    175                    96                 29               500   \n",
       "308    154                    92                  5               150   \n",
       "\n",
       "     cleaning_fee  \n",
       "0              95  \n",
       "1             105  \n",
       "2              40  \n",
       "3              50  \n",
       "4              65  \n",
       "..            ...  \n",
       "304           100  \n",
       "305            45  \n",
       "306            89  \n",
       "307            95  \n",
       "308            85  \n",
       "\n",
       "[309 rows x 5 columns]"
      ]
     },
     "execution_count": 291,
     "metadata": {},
     "output_type": "execute_result"
    }
   ],
   "source": [
    "num_exp = df_drop[['price', 'review_scores_rating', 'number_of_reviews', 'security_deposit', 'cleaning_fee']].reset_index(drop=True)\n",
    "num_exp"
   ]
  },
  {
   "cell_type": "code",
   "execution_count": 292,
   "metadata": {},
   "outputs": [
    {
     "data": {
      "text/plain": [
       "price                    66.881944\n",
       "review_scores_rating      3.720319\n",
       "number_of_reviews        28.994854\n",
       "security_deposit        130.886718\n",
       "cleaning_fee             33.347547\n",
       "dtype: float64"
      ]
     },
     "execution_count": 292,
     "metadata": {},
     "output_type": "execute_result"
    }
   ],
   "source": [
    "num_exp.std()"
   ]
  },
  {
   "cell_type": "code",
   "execution_count": 293,
   "metadata": {},
   "outputs": [
    {
     "data": {
      "text/html": [
       "<div>\n",
       "<style scoped>\n",
       "    .dataframe tbody tr th:only-of-type {\n",
       "        vertical-align: middle;\n",
       "    }\n",
       "\n",
       "    .dataframe tbody tr th {\n",
       "        vertical-align: top;\n",
       "    }\n",
       "\n",
       "    .dataframe thead th {\n",
       "        text-align: right;\n",
       "    }\n",
       "</style>\n",
       "<table border=\"1\" class=\"dataframe\">\n",
       "  <thead>\n",
       "    <tr style=\"text-align: right;\">\n",
       "      <th></th>\n",
       "      <th>price</th>\n",
       "      <th>review_scores_rating</th>\n",
       "      <th>number_of_reviews</th>\n",
       "      <th>security_deposit</th>\n",
       "      <th>cleaning_fee</th>\n",
       "    </tr>\n",
       "  </thead>\n",
       "  <tbody>\n",
       "    <tr>\n",
       "      <th>0</th>\n",
       "      <td>2.575576</td>\n",
       "      <td>1.130070</td>\n",
       "      <td>-0.099274</td>\n",
       "      <td>1.904157</td>\n",
       "      <td>1.124546</td>\n",
       "    </tr>\n",
       "    <tr>\n",
       "      <th>1</th>\n",
       "      <td>0.314205</td>\n",
       "      <td>0.053149</td>\n",
       "      <td>-0.548357</td>\n",
       "      <td>0.373639</td>\n",
       "      <td>1.424905</td>\n",
       "    </tr>\n",
       "    <tr>\n",
       "      <th>2</th>\n",
       "      <td>-0.494498</td>\n",
       "      <td>-0.216081</td>\n",
       "      <td>1.800691</td>\n",
       "      <td>-0.774249</td>\n",
       "      <td>-0.527426</td>\n",
       "    </tr>\n",
       "    <tr>\n",
       "      <th>3</th>\n",
       "      <td>-0.344738</td>\n",
       "      <td>1.130070</td>\n",
       "      <td>-0.479267</td>\n",
       "      <td>1.904157</td>\n",
       "      <td>-0.227067</td>\n",
       "    </tr>\n",
       "    <tr>\n",
       "      <th>4</th>\n",
       "      <td>0.179421</td>\n",
       "      <td>0.860839</td>\n",
       "      <td>0.107994</td>\n",
       "      <td>-0.008990</td>\n",
       "      <td>0.223471</td>\n",
       "    </tr>\n",
       "    <tr>\n",
       "      <th>...</th>\n",
       "      <td>...</td>\n",
       "      <td>...</td>\n",
       "      <td>...</td>\n",
       "      <td>...</td>\n",
       "      <td>...</td>\n",
       "    </tr>\n",
       "    <tr>\n",
       "      <th>304</th>\n",
       "      <td>1.826778</td>\n",
       "      <td>-0.216081</td>\n",
       "      <td>-0.790171</td>\n",
       "      <td>-0.008990</td>\n",
       "      <td>1.274726</td>\n",
       "    </tr>\n",
       "    <tr>\n",
       "      <th>305</th>\n",
       "      <td>-0.045219</td>\n",
       "      <td>-0.216081</td>\n",
       "      <td>-0.513812</td>\n",
       "      <td>-0.774249</td>\n",
       "      <td>-0.377246</td>\n",
       "    </tr>\n",
       "    <tr>\n",
       "      <th>306</th>\n",
       "      <td>-0.419618</td>\n",
       "      <td>0.591609</td>\n",
       "      <td>-0.582902</td>\n",
       "      <td>-0.391619</td>\n",
       "      <td>0.944331</td>\n",
       "    </tr>\n",
       "    <tr>\n",
       "      <th>307</th>\n",
       "      <td>0.703580</td>\n",
       "      <td>0.053149</td>\n",
       "      <td>0.073450</td>\n",
       "      <td>1.904157</td>\n",
       "      <td>1.124546</td>\n",
       "    </tr>\n",
       "    <tr>\n",
       "      <th>308</th>\n",
       "      <td>0.389084</td>\n",
       "      <td>-1.023772</td>\n",
       "      <td>-0.755626</td>\n",
       "      <td>-0.774249</td>\n",
       "      <td>0.824188</td>\n",
       "    </tr>\n",
       "  </tbody>\n",
       "</table>\n",
       "<p>309 rows × 5 columns</p>\n",
       "</div>"
      ],
      "text/plain": [
       "        price  review_scores_rating  number_of_reviews  security_deposit  \\\n",
       "0    2.575576              1.130070          -0.099274          1.904157   \n",
       "1    0.314205              0.053149          -0.548357          0.373639   \n",
       "2   -0.494498             -0.216081           1.800691         -0.774249   \n",
       "3   -0.344738              1.130070          -0.479267          1.904157   \n",
       "4    0.179421              0.860839           0.107994         -0.008990   \n",
       "..        ...                   ...                ...               ...   \n",
       "304  1.826778             -0.216081          -0.790171         -0.008990   \n",
       "305 -0.045219             -0.216081          -0.513812         -0.774249   \n",
       "306 -0.419618              0.591609          -0.582902         -0.391619   \n",
       "307  0.703580              0.053149           0.073450          1.904157   \n",
       "308  0.389084             -1.023772          -0.755626         -0.774249   \n",
       "\n",
       "     cleaning_fee  \n",
       "0        1.124546  \n",
       "1        1.424905  \n",
       "2       -0.527426  \n",
       "3       -0.227067  \n",
       "4        0.223471  \n",
       "..            ...  \n",
       "304      1.274726  \n",
       "305     -0.377246  \n",
       "306      0.944331  \n",
       "307      1.124546  \n",
       "308      0.824188  \n",
       "\n",
       "[309 rows x 5 columns]"
      ]
     },
     "execution_count": 293,
     "metadata": {},
     "output_type": "execute_result"
    }
   ],
   "source": [
    "from sklearn.preprocessing import StandardScaler\n",
    "\n",
    "scaler_training = StandardScaler()\n",
    "scaled_expl_vars = scaler_training.fit_transform(num_exp)\n",
    "num_scal = pd.DataFrame(scaled_expl_vars, columns=num_exp.columns)\n",
    "num_scal"
   ]
  },
  {
   "cell_type": "markdown",
   "metadata": {},
   "source": [
    "#### Indicator Variables\n",
    "* Be sure to translate your categorical explanatory variable(s) into indicator variables."
   ]
  },
  {
   "cell_type": "code",
   "execution_count": 294,
   "metadata": {},
   "outputs": [
    {
     "data": {
      "text/html": [
       "<div>\n",
       "<style scoped>\n",
       "    .dataframe tbody tr th:only-of-type {\n",
       "        vertical-align: middle;\n",
       "    }\n",
       "\n",
       "    .dataframe tbody tr th {\n",
       "        vertical-align: top;\n",
       "    }\n",
       "\n",
       "    .dataframe thead th {\n",
       "        text-align: right;\n",
       "    }\n",
       "</style>\n",
       "<table border=\"1\" class=\"dataframe\">\n",
       "  <thead>\n",
       "    <tr style=\"text-align: right;\">\n",
       "      <th></th>\n",
       "      <th>House</th>\n",
       "    </tr>\n",
       "  </thead>\n",
       "  <tbody>\n",
       "    <tr>\n",
       "      <th>0</th>\n",
       "      <td>1</td>\n",
       "    </tr>\n",
       "    <tr>\n",
       "      <th>1</th>\n",
       "      <td>0</td>\n",
       "    </tr>\n",
       "    <tr>\n",
       "      <th>2</th>\n",
       "      <td>0</td>\n",
       "    </tr>\n",
       "    <tr>\n",
       "      <th>3</th>\n",
       "      <td>1</td>\n",
       "    </tr>\n",
       "    <tr>\n",
       "      <th>4</th>\n",
       "      <td>1</td>\n",
       "    </tr>\n",
       "    <tr>\n",
       "      <th>...</th>\n",
       "      <td>...</td>\n",
       "    </tr>\n",
       "    <tr>\n",
       "      <th>304</th>\n",
       "      <td>1</td>\n",
       "    </tr>\n",
       "    <tr>\n",
       "      <th>305</th>\n",
       "      <td>0</td>\n",
       "    </tr>\n",
       "    <tr>\n",
       "      <th>306</th>\n",
       "      <td>0</td>\n",
       "    </tr>\n",
       "    <tr>\n",
       "      <th>307</th>\n",
       "      <td>1</td>\n",
       "    </tr>\n",
       "    <tr>\n",
       "      <th>308</th>\n",
       "      <td>1</td>\n",
       "    </tr>\n",
       "  </tbody>\n",
       "</table>\n",
       "<p>309 rows × 1 columns</p>\n",
       "</div>"
      ],
      "text/plain": [
       "     House\n",
       "0        1\n",
       "1        0\n",
       "2        0\n",
       "3        1\n",
       "4        1\n",
       "..     ...\n",
       "304      1\n",
       "305      0\n",
       "306      0\n",
       "307      1\n",
       "308      1\n",
       "\n",
       "[309 rows x 1 columns]"
      ]
     },
     "execution_count": 294,
     "metadata": {},
     "output_type": "execute_result"
    }
   ],
   "source": [
    "df_dum = pd.get_dummies(df_drop['property_type'], drop_first=True, dtype=int).reset_index(drop=True)\n",
    "df_dum"
   ]
  },
  {
   "cell_type": "code",
   "execution_count": 295,
   "metadata": {},
   "outputs": [
    {
     "data": {
      "text/html": [
       "<div>\n",
       "<style scoped>\n",
       "    .dataframe tbody tr th:only-of-type {\n",
       "        vertical-align: middle;\n",
       "    }\n",
       "\n",
       "    .dataframe tbody tr th {\n",
       "        vertical-align: top;\n",
       "    }\n",
       "\n",
       "    .dataframe thead th {\n",
       "        text-align: right;\n",
       "    }\n",
       "</style>\n",
       "<table border=\"1\" class=\"dataframe\">\n",
       "  <thead>\n",
       "    <tr style=\"text-align: right;\">\n",
       "      <th></th>\n",
       "      <th>price</th>\n",
       "      <th>review_scores_rating</th>\n",
       "      <th>number_of_reviews</th>\n",
       "      <th>security_deposit</th>\n",
       "      <th>cleaning_fee</th>\n",
       "      <th>House</th>\n",
       "    </tr>\n",
       "  </thead>\n",
       "  <tbody>\n",
       "    <tr>\n",
       "      <th>0</th>\n",
       "      <td>2.575576</td>\n",
       "      <td>1.130070</td>\n",
       "      <td>-0.099274</td>\n",
       "      <td>1.904157</td>\n",
       "      <td>1.124546</td>\n",
       "      <td>1</td>\n",
       "    </tr>\n",
       "    <tr>\n",
       "      <th>1</th>\n",
       "      <td>0.314205</td>\n",
       "      <td>0.053149</td>\n",
       "      <td>-0.548357</td>\n",
       "      <td>0.373639</td>\n",
       "      <td>1.424905</td>\n",
       "      <td>0</td>\n",
       "    </tr>\n",
       "    <tr>\n",
       "      <th>2</th>\n",
       "      <td>-0.494498</td>\n",
       "      <td>-0.216081</td>\n",
       "      <td>1.800691</td>\n",
       "      <td>-0.774249</td>\n",
       "      <td>-0.527426</td>\n",
       "      <td>0</td>\n",
       "    </tr>\n",
       "    <tr>\n",
       "      <th>3</th>\n",
       "      <td>-0.344738</td>\n",
       "      <td>1.130070</td>\n",
       "      <td>-0.479267</td>\n",
       "      <td>1.904157</td>\n",
       "      <td>-0.227067</td>\n",
       "      <td>1</td>\n",
       "    </tr>\n",
       "    <tr>\n",
       "      <th>4</th>\n",
       "      <td>0.179421</td>\n",
       "      <td>0.860839</td>\n",
       "      <td>0.107994</td>\n",
       "      <td>-0.008990</td>\n",
       "      <td>0.223471</td>\n",
       "      <td>1</td>\n",
       "    </tr>\n",
       "    <tr>\n",
       "      <th>...</th>\n",
       "      <td>...</td>\n",
       "      <td>...</td>\n",
       "      <td>...</td>\n",
       "      <td>...</td>\n",
       "      <td>...</td>\n",
       "      <td>...</td>\n",
       "    </tr>\n",
       "    <tr>\n",
       "      <th>304</th>\n",
       "      <td>1.826778</td>\n",
       "      <td>-0.216081</td>\n",
       "      <td>-0.790171</td>\n",
       "      <td>-0.008990</td>\n",
       "      <td>1.274726</td>\n",
       "      <td>1</td>\n",
       "    </tr>\n",
       "    <tr>\n",
       "      <th>305</th>\n",
       "      <td>-0.045219</td>\n",
       "      <td>-0.216081</td>\n",
       "      <td>-0.513812</td>\n",
       "      <td>-0.774249</td>\n",
       "      <td>-0.377246</td>\n",
       "      <td>0</td>\n",
       "    </tr>\n",
       "    <tr>\n",
       "      <th>306</th>\n",
       "      <td>-0.419618</td>\n",
       "      <td>0.591609</td>\n",
       "      <td>-0.582902</td>\n",
       "      <td>-0.391619</td>\n",
       "      <td>0.944331</td>\n",
       "      <td>0</td>\n",
       "    </tr>\n",
       "    <tr>\n",
       "      <th>307</th>\n",
       "      <td>0.703580</td>\n",
       "      <td>0.053149</td>\n",
       "      <td>0.073450</td>\n",
       "      <td>1.904157</td>\n",
       "      <td>1.124546</td>\n",
       "      <td>1</td>\n",
       "    </tr>\n",
       "    <tr>\n",
       "      <th>308</th>\n",
       "      <td>0.389084</td>\n",
       "      <td>-1.023772</td>\n",
       "      <td>-0.755626</td>\n",
       "      <td>-0.774249</td>\n",
       "      <td>0.824188</td>\n",
       "      <td>1</td>\n",
       "    </tr>\n",
       "  </tbody>\n",
       "</table>\n",
       "<p>309 rows × 6 columns</p>\n",
       "</div>"
      ],
      "text/plain": [
       "        price  review_scores_rating  number_of_reviews  security_deposit  \\\n",
       "0    2.575576              1.130070          -0.099274          1.904157   \n",
       "1    0.314205              0.053149          -0.548357          0.373639   \n",
       "2   -0.494498             -0.216081           1.800691         -0.774249   \n",
       "3   -0.344738              1.130070          -0.479267          1.904157   \n",
       "4    0.179421              0.860839           0.107994         -0.008990   \n",
       "..        ...                   ...                ...               ...   \n",
       "304  1.826778             -0.216081          -0.790171         -0.008990   \n",
       "305 -0.045219             -0.216081          -0.513812         -0.774249   \n",
       "306 -0.419618              0.591609          -0.582902         -0.391619   \n",
       "307  0.703580              0.053149           0.073450          1.904157   \n",
       "308  0.389084             -1.023772          -0.755626         -0.774249   \n",
       "\n",
       "     cleaning_fee  House  \n",
       "0        1.124546      1  \n",
       "1        1.424905      0  \n",
       "2       -0.527426      0  \n",
       "3       -0.227067      1  \n",
       "4        0.223471      1  \n",
       "..            ...    ...  \n",
       "304      1.274726      1  \n",
       "305     -0.377246      0  \n",
       "306      0.944331      0  \n",
       "307      1.124546      1  \n",
       "308      0.824188      1  \n",
       "\n",
       "[309 rows x 6 columns]"
      ]
     },
     "execution_count": 295,
     "metadata": {},
     "output_type": "execute_result"
    }
   ],
   "source": [
    "exp_var = pd.concat([num_scal, df_dum], axis=1)\n",
    "exp_var"
   ]
  },
  {
   "cell_type": "markdown",
   "metadata": {},
   "source": [
    "## 6. Feature Selection with k-Fold Cross-Validation"
   ]
  },
  {
   "cell_type": "markdown",
   "metadata": {},
   "source": [
    "In order to make more robust estimates as to how a given model might perform when classifying observations in NEW datasets, we will use k=5 fold cross-validation to assess a given models performance (rather than the train-test-split method). Specifically, we will measure the average test AUC of a given model.\n",
    "\n",
    "Thus, we would like to select a logistic regression model that has the highest average test AUC in the k=5 fold cross- validation.\n",
    "\n",
    "You can choose from one of three feature selection techniques below which will attempt to find this logistic regression model with the highest average test AUC.\n",
    "\n",
    "#### OPTION A: Backwards Elimination with Cross-Validation\n",
    "Perform a backwards elimination algorithm that tries to select the logistic regression model with the highest average test AUC in the k=5 fold cross-validation."
   ]
  },
  {
   "cell_type": "code",
   "execution_count": 296,
   "metadata": {},
   "outputs": [
    {
     "data": {
      "text/html": [
       "<div>\n",
       "<style scoped>\n",
       "    .dataframe tbody tr th:only-of-type {\n",
       "        vertical-align: middle;\n",
       "    }\n",
       "\n",
       "    .dataframe tbody tr th {\n",
       "        vertical-align: top;\n",
       "    }\n",
       "\n",
       "    .dataframe thead th {\n",
       "        text-align: right;\n",
       "    }\n",
       "</style>\n",
       "<table border=\"1\" class=\"dataframe\">\n",
       "  <thead>\n",
       "    <tr style=\"text-align: right;\">\n",
       "      <th></th>\n",
       "      <th>price</th>\n",
       "      <th>review_scores_rating</th>\n",
       "      <th>number_of_reviews</th>\n",
       "      <th>security_deposit</th>\n",
       "      <th>cleaning_fee</th>\n",
       "      <th>House</th>\n",
       "      <th>y</th>\n",
       "    </tr>\n",
       "  </thead>\n",
       "  <tbody>\n",
       "    <tr>\n",
       "      <th>0</th>\n",
       "      <td>2.575576</td>\n",
       "      <td>1.130070</td>\n",
       "      <td>-0.099274</td>\n",
       "      <td>1.904157</td>\n",
       "      <td>1.124546</td>\n",
       "      <td>1</td>\n",
       "      <td>1</td>\n",
       "    </tr>\n",
       "    <tr>\n",
       "      <th>1</th>\n",
       "      <td>0.314205</td>\n",
       "      <td>0.053149</td>\n",
       "      <td>-0.548357</td>\n",
       "      <td>0.373639</td>\n",
       "      <td>1.424905</td>\n",
       "      <td>0</td>\n",
       "      <td>1</td>\n",
       "    </tr>\n",
       "    <tr>\n",
       "      <th>2</th>\n",
       "      <td>-0.494498</td>\n",
       "      <td>-0.216081</td>\n",
       "      <td>1.800691</td>\n",
       "      <td>-0.774249</td>\n",
       "      <td>-0.527426</td>\n",
       "      <td>0</td>\n",
       "      <td>1</td>\n",
       "    </tr>\n",
       "    <tr>\n",
       "      <th>3</th>\n",
       "      <td>-0.344738</td>\n",
       "      <td>1.130070</td>\n",
       "      <td>-0.479267</td>\n",
       "      <td>1.904157</td>\n",
       "      <td>-0.227067</td>\n",
       "      <td>1</td>\n",
       "      <td>1</td>\n",
       "    </tr>\n",
       "    <tr>\n",
       "      <th>4</th>\n",
       "      <td>0.179421</td>\n",
       "      <td>0.860839</td>\n",
       "      <td>0.107994</td>\n",
       "      <td>-0.008990</td>\n",
       "      <td>0.223471</td>\n",
       "      <td>1</td>\n",
       "      <td>1</td>\n",
       "    </tr>\n",
       "    <tr>\n",
       "      <th>...</th>\n",
       "      <td>...</td>\n",
       "      <td>...</td>\n",
       "      <td>...</td>\n",
       "      <td>...</td>\n",
       "      <td>...</td>\n",
       "      <td>...</td>\n",
       "      <td>...</td>\n",
       "    </tr>\n",
       "    <tr>\n",
       "      <th>304</th>\n",
       "      <td>1.826778</td>\n",
       "      <td>-0.216081</td>\n",
       "      <td>-0.790171</td>\n",
       "      <td>-0.008990</td>\n",
       "      <td>1.274726</td>\n",
       "      <td>1</td>\n",
       "      <td>1</td>\n",
       "    </tr>\n",
       "    <tr>\n",
       "      <th>305</th>\n",
       "      <td>-0.045219</td>\n",
       "      <td>-0.216081</td>\n",
       "      <td>-0.513812</td>\n",
       "      <td>-0.774249</td>\n",
       "      <td>-0.377246</td>\n",
       "      <td>0</td>\n",
       "      <td>1</td>\n",
       "    </tr>\n",
       "    <tr>\n",
       "      <th>306</th>\n",
       "      <td>-0.419618</td>\n",
       "      <td>0.591609</td>\n",
       "      <td>-0.582902</td>\n",
       "      <td>-0.391619</td>\n",
       "      <td>0.944331</td>\n",
       "      <td>0</td>\n",
       "      <td>1</td>\n",
       "    </tr>\n",
       "    <tr>\n",
       "      <th>307</th>\n",
       "      <td>0.703580</td>\n",
       "      <td>0.053149</td>\n",
       "      <td>0.073450</td>\n",
       "      <td>1.904157</td>\n",
       "      <td>1.124546</td>\n",
       "      <td>1</td>\n",
       "      <td>1</td>\n",
       "    </tr>\n",
       "    <tr>\n",
       "      <th>308</th>\n",
       "      <td>0.389084</td>\n",
       "      <td>-1.023772</td>\n",
       "      <td>-0.755626</td>\n",
       "      <td>-0.774249</td>\n",
       "      <td>0.824188</td>\n",
       "      <td>1</td>\n",
       "      <td>1</td>\n",
       "    </tr>\n",
       "  </tbody>\n",
       "</table>\n",
       "<p>309 rows × 7 columns</p>\n",
       "</div>"
      ],
      "text/plain": [
       "        price  review_scores_rating  number_of_reviews  security_deposit  \\\n",
       "0    2.575576              1.130070          -0.099274          1.904157   \n",
       "1    0.314205              0.053149          -0.548357          0.373639   \n",
       "2   -0.494498             -0.216081           1.800691         -0.774249   \n",
       "3   -0.344738              1.130070          -0.479267          1.904157   \n",
       "4    0.179421              0.860839           0.107994         -0.008990   \n",
       "..        ...                   ...                ...               ...   \n",
       "304  1.826778             -0.216081          -0.790171         -0.008990   \n",
       "305 -0.045219             -0.216081          -0.513812         -0.774249   \n",
       "306 -0.419618              0.591609          -0.582902         -0.391619   \n",
       "307  0.703580              0.053149           0.073450          1.904157   \n",
       "308  0.389084             -1.023772          -0.755626         -0.774249   \n",
       "\n",
       "     cleaning_fee  House  y  \n",
       "0        1.124546      1  1  \n",
       "1        1.424905      0  1  \n",
       "2       -0.527426      0  1  \n",
       "3       -0.227067      1  1  \n",
       "4        0.223471      1  1  \n",
       "..            ...    ... ..  \n",
       "304      1.274726      1  1  \n",
       "305     -0.377246      0  1  \n",
       "306      0.944331      0  1  \n",
       "307      1.124546      1  1  \n",
       "308      0.824188      1  1  \n",
       "\n",
       "[309 rows x 7 columns]"
      ]
     },
     "execution_count": 296,
     "metadata": {},
     "output_type": "execute_result"
    }
   ],
   "source": [
    "df_concat = pd.concat([num_scal, df_dum, df_drop['y'].reset_index(drop=True)], axis=1)\n",
    "df_concat"
   ]
  },
  {
   "cell_type": "code",
   "execution_count": 297,
   "metadata": {},
   "outputs": [
    {
     "data": {
      "text/plain": [
       "KFold(n_splits=5, random_state=207, shuffle=True)"
      ]
     },
     "execution_count": 297,
     "metadata": {},
     "output_type": "execute_result"
    }
   ],
   "source": [
    "from sklearn.model_selection import KFold, cross_val_score\n",
    "cross_val = KFold(n_splits=5, shuffle=True, random_state=207)\n",
    "cross_val"
   ]
  },
  {
   "cell_type": "code",
   "execution_count": 298,
   "metadata": {},
   "outputs": [
    {
     "data": {
      "text/html": [
       "<div>\n",
       "<style scoped>\n",
       "    .dataframe tbody tr th:only-of-type {\n",
       "        vertical-align: middle;\n",
       "    }\n",
       "\n",
       "    .dataframe tbody tr th {\n",
       "        vertical-align: top;\n",
       "    }\n",
       "\n",
       "    .dataframe thead th {\n",
       "        text-align: right;\n",
       "    }\n",
       "</style>\n",
       "<table border=\"1\" class=\"dataframe\">\n",
       "  <thead>\n",
       "    <tr style=\"text-align: right;\">\n",
       "      <th></th>\n",
       "      <th>price</th>\n",
       "      <th>review_scores_rating</th>\n",
       "      <th>number_of_reviews</th>\n",
       "      <th>security_deposit</th>\n",
       "      <th>cleaning_fee</th>\n",
       "      <th>House</th>\n",
       "    </tr>\n",
       "  </thead>\n",
       "  <tbody>\n",
       "    <tr>\n",
       "      <th>0</th>\n",
       "      <td>2.575576</td>\n",
       "      <td>1.130070</td>\n",
       "      <td>-0.099274</td>\n",
       "      <td>1.904157</td>\n",
       "      <td>1.124546</td>\n",
       "      <td>1</td>\n",
       "    </tr>\n",
       "    <tr>\n",
       "      <th>1</th>\n",
       "      <td>0.314205</td>\n",
       "      <td>0.053149</td>\n",
       "      <td>-0.548357</td>\n",
       "      <td>0.373639</td>\n",
       "      <td>1.424905</td>\n",
       "      <td>0</td>\n",
       "    </tr>\n",
       "    <tr>\n",
       "      <th>2</th>\n",
       "      <td>-0.494498</td>\n",
       "      <td>-0.216081</td>\n",
       "      <td>1.800691</td>\n",
       "      <td>-0.774249</td>\n",
       "      <td>-0.527426</td>\n",
       "      <td>0</td>\n",
       "    </tr>\n",
       "    <tr>\n",
       "      <th>3</th>\n",
       "      <td>-0.344738</td>\n",
       "      <td>1.130070</td>\n",
       "      <td>-0.479267</td>\n",
       "      <td>1.904157</td>\n",
       "      <td>-0.227067</td>\n",
       "      <td>1</td>\n",
       "    </tr>\n",
       "    <tr>\n",
       "      <th>4</th>\n",
       "      <td>0.179421</td>\n",
       "      <td>0.860839</td>\n",
       "      <td>0.107994</td>\n",
       "      <td>-0.008990</td>\n",
       "      <td>0.223471</td>\n",
       "      <td>1</td>\n",
       "    </tr>\n",
       "    <tr>\n",
       "      <th>...</th>\n",
       "      <td>...</td>\n",
       "      <td>...</td>\n",
       "      <td>...</td>\n",
       "      <td>...</td>\n",
       "      <td>...</td>\n",
       "      <td>...</td>\n",
       "    </tr>\n",
       "    <tr>\n",
       "      <th>304</th>\n",
       "      <td>1.826778</td>\n",
       "      <td>-0.216081</td>\n",
       "      <td>-0.790171</td>\n",
       "      <td>-0.008990</td>\n",
       "      <td>1.274726</td>\n",
       "      <td>1</td>\n",
       "    </tr>\n",
       "    <tr>\n",
       "      <th>305</th>\n",
       "      <td>-0.045219</td>\n",
       "      <td>-0.216081</td>\n",
       "      <td>-0.513812</td>\n",
       "      <td>-0.774249</td>\n",
       "      <td>-0.377246</td>\n",
       "      <td>0</td>\n",
       "    </tr>\n",
       "    <tr>\n",
       "      <th>306</th>\n",
       "      <td>-0.419618</td>\n",
       "      <td>0.591609</td>\n",
       "      <td>-0.582902</td>\n",
       "      <td>-0.391619</td>\n",
       "      <td>0.944331</td>\n",
       "      <td>0</td>\n",
       "    </tr>\n",
       "    <tr>\n",
       "      <th>307</th>\n",
       "      <td>0.703580</td>\n",
       "      <td>0.053149</td>\n",
       "      <td>0.073450</td>\n",
       "      <td>1.904157</td>\n",
       "      <td>1.124546</td>\n",
       "      <td>1</td>\n",
       "    </tr>\n",
       "    <tr>\n",
       "      <th>308</th>\n",
       "      <td>0.389084</td>\n",
       "      <td>-1.023772</td>\n",
       "      <td>-0.755626</td>\n",
       "      <td>-0.774249</td>\n",
       "      <td>0.824188</td>\n",
       "      <td>1</td>\n",
       "    </tr>\n",
       "  </tbody>\n",
       "</table>\n",
       "<p>309 rows × 6 columns</p>\n",
       "</div>"
      ],
      "text/plain": [
       "        price  review_scores_rating  number_of_reviews  security_deposit  \\\n",
       "0    2.575576              1.130070          -0.099274          1.904157   \n",
       "1    0.314205              0.053149          -0.548357          0.373639   \n",
       "2   -0.494498             -0.216081           1.800691         -0.774249   \n",
       "3   -0.344738              1.130070          -0.479267          1.904157   \n",
       "4    0.179421              0.860839           0.107994         -0.008990   \n",
       "..        ...                   ...                ...               ...   \n",
       "304  1.826778             -0.216081          -0.790171         -0.008990   \n",
       "305 -0.045219             -0.216081          -0.513812         -0.774249   \n",
       "306 -0.419618              0.591609          -0.582902         -0.391619   \n",
       "307  0.703580              0.053149           0.073450          1.904157   \n",
       "308  0.389084             -1.023772          -0.755626         -0.774249   \n",
       "\n",
       "     cleaning_fee  House  \n",
       "0        1.124546      1  \n",
       "1        1.424905      0  \n",
       "2       -0.527426      0  \n",
       "3       -0.227067      1  \n",
       "4        0.223471      1  \n",
       "..            ...    ...  \n",
       "304      1.274726      1  \n",
       "305     -0.377246      0  \n",
       "306      0.944331      0  \n",
       "307      1.124546      1  \n",
       "308      0.824188      1  \n",
       "\n",
       "[309 rows x 6 columns]"
      ]
     },
     "execution_count": 298,
     "metadata": {},
     "output_type": "execute_result"
    }
   ],
   "source": [
    "#iteration 1\n",
    "\n",
    "rem_none_0 = df_concat[['price', 'review_scores_rating', 'number_of_reviews', 'security_deposit', 'cleaning_fee', 'House']]\n",
    "rem_price_0 = df_concat[['review_scores_rating', 'number_of_reviews', 'security_deposit', 'cleaning_fee', 'House']]\n",
    "rem_revscore_0 = df_concat[['price', 'number_of_reviews', 'security_deposit', 'cleaning_fee', 'House']]\n",
    "rem_numrev_0 = df_concat[['price', 'review_scores_rating', 'security_deposit', 'cleaning_fee', 'House']]\n",
    "rem_deposit_0 = df_concat[['price', 'review_scores_rating', 'number_of_reviews', 'cleaning_fee', 'House']]\n",
    "rem_cleaningfee_0 = df_concat[['price', 'review_scores_rating', 'number_of_reviews', 'security_deposit', 'House']]\n",
    "rem_house_0 = df_concat[['price', 'review_scores_rating', 'number_of_reviews', 'security_deposit', 'cleaning_fee']]\n",
    "rem_none_0"
   ]
  },
  {
   "cell_type": "code",
   "execution_count": 299,
   "metadata": {},
   "outputs": [
    {
     "data": {
      "text/plain": [
       "0.6190450485187328"
      ]
     },
     "execution_count": 299,
     "metadata": {},
     "output_type": "execute_result"
    }
   ],
   "source": [
    "from sklearn.linear_model import LogisticRegression\n",
    "\n",
    "log_reg_mod = LogisticRegression()\n",
    "test_fold_auc = cross_val_score(log_reg_mod, rem_none_0, tar_arr, scoring = 'roc_auc', cv = cross_val)\n",
    "test_fold_auc.mean()"
   ]
  },
  {
   "cell_type": "code",
   "execution_count": 300,
   "metadata": {},
   "outputs": [
    {
     "data": {
      "text/plain": [
       "0.6342893656051551"
      ]
     },
     "execution_count": 300,
     "metadata": {},
     "output_type": "execute_result"
    }
   ],
   "source": [
    "auc_price_0 = cross_val_score(log_reg_mod, rem_price_0, tar_arr, scoring = 'roc_auc', cv = cross_val)\n",
    "auc_price_0.mean()"
   ]
  },
  {
   "cell_type": "code",
   "execution_count": 301,
   "metadata": {},
   "outputs": [
    {
     "data": {
      "text/plain": [
       "0.6349251771620192"
      ]
     },
     "execution_count": 301,
     "metadata": {},
     "output_type": "execute_result"
    }
   ],
   "source": [
    "auc_revscore_0 = cross_val_score(log_reg_mod, rem_revscore_0, tar_arr, scoring = 'roc_auc', cv = cross_val)\n",
    "auc_revscore_0.mean()"
   ]
  },
  {
   "cell_type": "code",
   "execution_count": 302,
   "metadata": {},
   "outputs": [
    {
     "data": {
      "text/plain": [
       "0.5333100087047455"
      ]
     },
     "execution_count": 302,
     "metadata": {},
     "output_type": "execute_result"
    }
   ],
   "source": [
    "auc_numrev_0 = cross_val_score(log_reg_mod, rem_numrev_0, tar_arr, scoring = 'roc_auc', cv = cross_val)\n",
    "auc_numrev_0.mean()"
   ]
  },
  {
   "cell_type": "code",
   "execution_count": 303,
   "metadata": {},
   "outputs": [
    {
     "data": {
      "text/plain": [
       "0.6274904919641762"
      ]
     },
     "execution_count": 303,
     "metadata": {},
     "output_type": "execute_result"
    }
   ],
   "source": [
    "auc_deposit_0 = cross_val_score(log_reg_mod, rem_deposit_0, tar_arr, scoring = 'roc_auc', cv = cross_val)\n",
    "auc_deposit_0.mean()"
   ]
  },
  {
   "cell_type": "code",
   "execution_count": 304,
   "metadata": {},
   "outputs": [
    {
     "data": {
      "text/plain": [
       "0.6226877070298122"
      ]
     },
     "execution_count": 304,
     "metadata": {},
     "output_type": "execute_result"
    }
   ],
   "source": [
    "auc_cleaningfee_0 = cross_val_score(log_reg_mod, rem_cleaningfee_0, tar_arr, scoring = 'roc_auc', cv = cross_val)\n",
    "auc_cleaningfee_0.mean()"
   ]
  },
  {
   "cell_type": "code",
   "execution_count": 305,
   "metadata": {},
   "outputs": [
    {
     "data": {
      "text/plain": [
       "0.5418762524025682"
      ]
     },
     "execution_count": 305,
     "metadata": {},
     "output_type": "execute_result"
    }
   ],
   "source": [
    "auc_house_0 = cross_val_score(log_reg_mod, rem_house_0, tar_arr, scoring = 'roc_auc', cv = cross_val)\n",
    "auc_house_0.mean()"
   ]
  },
  {
   "cell_type": "code",
   "execution_count": 306,
   "metadata": {},
   "outputs": [
    {
     "data": {
      "text/html": [
       "<div>\n",
       "<style scoped>\n",
       "    .dataframe tbody tr th:only-of-type {\n",
       "        vertical-align: middle;\n",
       "    }\n",
       "\n",
       "    .dataframe tbody tr th {\n",
       "        vertical-align: top;\n",
       "    }\n",
       "\n",
       "    .dataframe thead th {\n",
       "        text-align: right;\n",
       "    }\n",
       "</style>\n",
       "<table border=\"1\" class=\"dataframe\">\n",
       "  <thead>\n",
       "    <tr style=\"text-align: right;\">\n",
       "      <th></th>\n",
       "      <th>price</th>\n",
       "      <th>number_of_reviews</th>\n",
       "      <th>security_deposit</th>\n",
       "      <th>cleaning_fee</th>\n",
       "      <th>House</th>\n",
       "    </tr>\n",
       "  </thead>\n",
       "  <tbody>\n",
       "    <tr>\n",
       "      <th>0</th>\n",
       "      <td>2.575576</td>\n",
       "      <td>-0.099274</td>\n",
       "      <td>1.904157</td>\n",
       "      <td>1.124546</td>\n",
       "      <td>1</td>\n",
       "    </tr>\n",
       "    <tr>\n",
       "      <th>1</th>\n",
       "      <td>0.314205</td>\n",
       "      <td>-0.548357</td>\n",
       "      <td>0.373639</td>\n",
       "      <td>1.424905</td>\n",
       "      <td>0</td>\n",
       "    </tr>\n",
       "    <tr>\n",
       "      <th>2</th>\n",
       "      <td>-0.494498</td>\n",
       "      <td>1.800691</td>\n",
       "      <td>-0.774249</td>\n",
       "      <td>-0.527426</td>\n",
       "      <td>0</td>\n",
       "    </tr>\n",
       "    <tr>\n",
       "      <th>3</th>\n",
       "      <td>-0.344738</td>\n",
       "      <td>-0.479267</td>\n",
       "      <td>1.904157</td>\n",
       "      <td>-0.227067</td>\n",
       "      <td>1</td>\n",
       "    </tr>\n",
       "    <tr>\n",
       "      <th>4</th>\n",
       "      <td>0.179421</td>\n",
       "      <td>0.107994</td>\n",
       "      <td>-0.008990</td>\n",
       "      <td>0.223471</td>\n",
       "      <td>1</td>\n",
       "    </tr>\n",
       "    <tr>\n",
       "      <th>...</th>\n",
       "      <td>...</td>\n",
       "      <td>...</td>\n",
       "      <td>...</td>\n",
       "      <td>...</td>\n",
       "      <td>...</td>\n",
       "    </tr>\n",
       "    <tr>\n",
       "      <th>304</th>\n",
       "      <td>1.826778</td>\n",
       "      <td>-0.790171</td>\n",
       "      <td>-0.008990</td>\n",
       "      <td>1.274726</td>\n",
       "      <td>1</td>\n",
       "    </tr>\n",
       "    <tr>\n",
       "      <th>305</th>\n",
       "      <td>-0.045219</td>\n",
       "      <td>-0.513812</td>\n",
       "      <td>-0.774249</td>\n",
       "      <td>-0.377246</td>\n",
       "      <td>0</td>\n",
       "    </tr>\n",
       "    <tr>\n",
       "      <th>306</th>\n",
       "      <td>-0.419618</td>\n",
       "      <td>-0.582902</td>\n",
       "      <td>-0.391619</td>\n",
       "      <td>0.944331</td>\n",
       "      <td>0</td>\n",
       "    </tr>\n",
       "    <tr>\n",
       "      <th>307</th>\n",
       "      <td>0.703580</td>\n",
       "      <td>0.073450</td>\n",
       "      <td>1.904157</td>\n",
       "      <td>1.124546</td>\n",
       "      <td>1</td>\n",
       "    </tr>\n",
       "    <tr>\n",
       "      <th>308</th>\n",
       "      <td>0.389084</td>\n",
       "      <td>-0.755626</td>\n",
       "      <td>-0.774249</td>\n",
       "      <td>0.824188</td>\n",
       "      <td>1</td>\n",
       "    </tr>\n",
       "  </tbody>\n",
       "</table>\n",
       "<p>309 rows × 5 columns</p>\n",
       "</div>"
      ],
      "text/plain": [
       "        price  number_of_reviews  security_deposit  cleaning_fee  House\n",
       "0    2.575576          -0.099274          1.904157      1.124546      1\n",
       "1    0.314205          -0.548357          0.373639      1.424905      0\n",
       "2   -0.494498           1.800691         -0.774249     -0.527426      0\n",
       "3   -0.344738          -0.479267          1.904157     -0.227067      1\n",
       "4    0.179421           0.107994         -0.008990      0.223471      1\n",
       "..        ...                ...               ...           ...    ...\n",
       "304  1.826778          -0.790171         -0.008990      1.274726      1\n",
       "305 -0.045219          -0.513812         -0.774249     -0.377246      0\n",
       "306 -0.419618          -0.582902         -0.391619      0.944331      0\n",
       "307  0.703580           0.073450          1.904157      1.124546      1\n",
       "308  0.389084          -0.755626         -0.774249      0.824188      1\n",
       "\n",
       "[309 rows x 5 columns]"
      ]
     },
     "execution_count": 306,
     "metadata": {},
     "output_type": "execute_result"
    }
   ],
   "source": [
    "#iteration 2 (remove review_scores_rating)\n",
    "\n",
    "rem_revscore_1 = rem_revscore_0\n",
    "rem_price_1 = df_concat[['number_of_reviews', 'security_deposit', 'cleaning_fee', 'House']]\n",
    "rem_numrev_1 = df_concat[['price', 'security_deposit', 'cleaning_fee', 'House']]\n",
    "rem_deposit_1 = df_concat[['price', 'number_of_reviews', 'cleaning_fee', 'House']]\n",
    "rem_cleaningfee_1 = df_concat[['price', 'number_of_reviews', 'security_deposit', 'House']]\n",
    "rem_house_1 = df_concat[['price', 'number_of_reviews', 'security_deposit', 'cleaning_fee']]\n",
    "rem_revscore_1"
   ]
  },
  {
   "cell_type": "code",
   "execution_count": 307,
   "metadata": {},
   "outputs": [
    {
     "data": {
      "text/plain": [
       "0.6488102978892453"
      ]
     },
     "execution_count": 307,
     "metadata": {},
     "output_type": "execute_result"
    }
   ],
   "source": [
    "auc_price_1 = cross_val_score(log_reg_mod, rem_price_1, tar_arr, scoring = 'roc_auc', cv = cross_val)\n",
    "auc_price_1.mean()"
   ]
  },
  {
   "cell_type": "code",
   "execution_count": 308,
   "metadata": {},
   "outputs": [
    {
     "data": {
      "text/plain": [
       "0.5697380981591507"
      ]
     },
     "execution_count": 308,
     "metadata": {},
     "output_type": "execute_result"
    }
   ],
   "source": [
    "auc_revscore_1 = cross_val_score(log_reg_mod, rem_numrev_1, tar_arr, scoring = 'roc_auc', cv = cross_val)\n",
    "auc_revscore_1.mean()"
   ]
  },
  {
   "cell_type": "code",
   "execution_count": 309,
   "metadata": {},
   "outputs": [
    {
     "data": {
      "text/plain": [
       "0.637839806392438"
      ]
     },
     "execution_count": 309,
     "metadata": {},
     "output_type": "execute_result"
    }
   ],
   "source": [
    "auc_deposit_1 = cross_val_score(log_reg_mod, rem_deposit_1, tar_arr, scoring = 'roc_auc', cv = cross_val)\n",
    "auc_deposit_1.mean()"
   ]
  },
  {
   "cell_type": "code",
   "execution_count": 310,
   "metadata": {},
   "outputs": [
    {
     "data": {
      "text/plain": [
       "0.6429159437054174"
      ]
     },
     "execution_count": 310,
     "metadata": {},
     "output_type": "execute_result"
    }
   ],
   "source": [
    "auc_cleaningfee_1 = cross_val_score(log_reg_mod, rem_cleaningfee_1, tar_arr, scoring = 'roc_auc', cv = cross_val)\n",
    "auc_cleaningfee_1.mean()"
   ]
  },
  {
   "cell_type": "code",
   "execution_count": 311,
   "metadata": {},
   "outputs": [
    {
     "data": {
      "text/plain": [
       "0.5909499564762722"
      ]
     },
     "execution_count": 311,
     "metadata": {},
     "output_type": "execute_result"
    }
   ],
   "source": [
    "auc_house_1 = cross_val_score(log_reg_mod, rem_house_1, tar_arr, scoring = 'roc_auc', cv = cross_val)\n",
    "auc_house_1.mean()"
   ]
  },
  {
   "cell_type": "code",
   "execution_count": 312,
   "metadata": {},
   "outputs": [
    {
     "data": {
      "text/html": [
       "<div>\n",
       "<style scoped>\n",
       "    .dataframe tbody tr th:only-of-type {\n",
       "        vertical-align: middle;\n",
       "    }\n",
       "\n",
       "    .dataframe tbody tr th {\n",
       "        vertical-align: top;\n",
       "    }\n",
       "\n",
       "    .dataframe thead th {\n",
       "        text-align: right;\n",
       "    }\n",
       "</style>\n",
       "<table border=\"1\" class=\"dataframe\">\n",
       "  <thead>\n",
       "    <tr style=\"text-align: right;\">\n",
       "      <th></th>\n",
       "      <th>number_of_reviews</th>\n",
       "      <th>security_deposit</th>\n",
       "      <th>cleaning_fee</th>\n",
       "      <th>House</th>\n",
       "    </tr>\n",
       "  </thead>\n",
       "  <tbody>\n",
       "    <tr>\n",
       "      <th>0</th>\n",
       "      <td>-0.099274</td>\n",
       "      <td>1.904157</td>\n",
       "      <td>1.124546</td>\n",
       "      <td>1</td>\n",
       "    </tr>\n",
       "    <tr>\n",
       "      <th>1</th>\n",
       "      <td>-0.548357</td>\n",
       "      <td>0.373639</td>\n",
       "      <td>1.424905</td>\n",
       "      <td>0</td>\n",
       "    </tr>\n",
       "    <tr>\n",
       "      <th>2</th>\n",
       "      <td>1.800691</td>\n",
       "      <td>-0.774249</td>\n",
       "      <td>-0.527426</td>\n",
       "      <td>0</td>\n",
       "    </tr>\n",
       "    <tr>\n",
       "      <th>3</th>\n",
       "      <td>-0.479267</td>\n",
       "      <td>1.904157</td>\n",
       "      <td>-0.227067</td>\n",
       "      <td>1</td>\n",
       "    </tr>\n",
       "    <tr>\n",
       "      <th>4</th>\n",
       "      <td>0.107994</td>\n",
       "      <td>-0.008990</td>\n",
       "      <td>0.223471</td>\n",
       "      <td>1</td>\n",
       "    </tr>\n",
       "    <tr>\n",
       "      <th>...</th>\n",
       "      <td>...</td>\n",
       "      <td>...</td>\n",
       "      <td>...</td>\n",
       "      <td>...</td>\n",
       "    </tr>\n",
       "    <tr>\n",
       "      <th>304</th>\n",
       "      <td>-0.790171</td>\n",
       "      <td>-0.008990</td>\n",
       "      <td>1.274726</td>\n",
       "      <td>1</td>\n",
       "    </tr>\n",
       "    <tr>\n",
       "      <th>305</th>\n",
       "      <td>-0.513812</td>\n",
       "      <td>-0.774249</td>\n",
       "      <td>-0.377246</td>\n",
       "      <td>0</td>\n",
       "    </tr>\n",
       "    <tr>\n",
       "      <th>306</th>\n",
       "      <td>-0.582902</td>\n",
       "      <td>-0.391619</td>\n",
       "      <td>0.944331</td>\n",
       "      <td>0</td>\n",
       "    </tr>\n",
       "    <tr>\n",
       "      <th>307</th>\n",
       "      <td>0.073450</td>\n",
       "      <td>1.904157</td>\n",
       "      <td>1.124546</td>\n",
       "      <td>1</td>\n",
       "    </tr>\n",
       "    <tr>\n",
       "      <th>308</th>\n",
       "      <td>-0.755626</td>\n",
       "      <td>-0.774249</td>\n",
       "      <td>0.824188</td>\n",
       "      <td>1</td>\n",
       "    </tr>\n",
       "  </tbody>\n",
       "</table>\n",
       "<p>309 rows × 4 columns</p>\n",
       "</div>"
      ],
      "text/plain": [
       "     number_of_reviews  security_deposit  cleaning_fee  House\n",
       "0            -0.099274          1.904157      1.124546      1\n",
       "1            -0.548357          0.373639      1.424905      0\n",
       "2             1.800691         -0.774249     -0.527426      0\n",
       "3            -0.479267          1.904157     -0.227067      1\n",
       "4             0.107994         -0.008990      0.223471      1\n",
       "..                 ...               ...           ...    ...\n",
       "304          -0.790171         -0.008990      1.274726      1\n",
       "305          -0.513812         -0.774249     -0.377246      0\n",
       "306          -0.582902         -0.391619      0.944331      0\n",
       "307           0.073450          1.904157      1.124546      1\n",
       "308          -0.755626         -0.774249      0.824188      1\n",
       "\n",
       "[309 rows x 4 columns]"
      ]
     },
     "execution_count": 312,
     "metadata": {},
     "output_type": "execute_result"
    }
   ],
   "source": [
    "#iteration 3 (removed price)\n",
    "\n",
    "rem_revscore_price_2 = rem_price_1\n",
    "rem_numrev_2 = df_concat[['security_deposit', 'cleaning_fee', 'House']]\n",
    "rem_deposit_2 = df_concat[['number_of_reviews', 'cleaning_fee', 'House']]\n",
    "rem_cleaningfee_2 = df_concat[['number_of_reviews', 'security_deposit', 'House']]\n",
    "rem_house_2 = df_concat[['number_of_reviews', 'security_deposit', 'cleaning_fee']]\n",
    "rem_revscore_price_2"
   ]
  },
  {
   "cell_type": "code",
   "execution_count": 313,
   "metadata": {},
   "outputs": [
    {
     "data": {
      "text/plain": [
       "0.5805718988613726"
      ]
     },
     "execution_count": 313,
     "metadata": {},
     "output_type": "execute_result"
    }
   ],
   "source": [
    "auc_revscore_2 = cross_val_score(log_reg_mod, rem_numrev_2, tar_arr, scoring = 'roc_auc', cv = cross_val)\n",
    "auc_revscore_2.mean()"
   ]
  },
  {
   "cell_type": "code",
   "execution_count": 314,
   "metadata": {},
   "outputs": [
    {
     "data": {
      "text/plain": [
       "0.6596482099771575"
      ]
     },
     "execution_count": 314,
     "metadata": {},
     "output_type": "execute_result"
    }
   ],
   "source": [
    "auc_deposit_2 = cross_val_score(log_reg_mod, rem_deposit_2, tar_arr, scoring = 'roc_auc', cv = cross_val)\n",
    "auc_deposit_2.mean()"
   ]
  },
  {
   "cell_type": "code",
   "execution_count": 315,
   "metadata": {},
   "outputs": [
    {
     "data": {
      "text/plain": [
       "0.6622643146327357"
      ]
     },
     "execution_count": 315,
     "metadata": {},
     "output_type": "execute_result"
    }
   ],
   "source": [
    "auc_cleaningfee_2 = cross_val_score(log_reg_mod, rem_cleaningfee_2, tar_arr, scoring = 'roc_auc', cv = cross_val)\n",
    "auc_cleaningfee_2.mean()"
   ]
  },
  {
   "cell_type": "code",
   "execution_count": 316,
   "metadata": {},
   "outputs": [
    {
     "data": {
      "text/plain": [
       "0.5871063439484492"
      ]
     },
     "execution_count": 316,
     "metadata": {},
     "output_type": "execute_result"
    }
   ],
   "source": [
    "auc_house_2 = cross_val_score(log_reg_mod, rem_house_2, tar_arr, scoring = 'roc_auc', cv = cross_val)\n",
    "auc_house_2.mean()"
   ]
  },
  {
   "cell_type": "code",
   "execution_count": 317,
   "metadata": {},
   "outputs": [
    {
     "data": {
      "text/html": [
       "<div>\n",
       "<style scoped>\n",
       "    .dataframe tbody tr th:only-of-type {\n",
       "        vertical-align: middle;\n",
       "    }\n",
       "\n",
       "    .dataframe tbody tr th {\n",
       "        vertical-align: top;\n",
       "    }\n",
       "\n",
       "    .dataframe thead th {\n",
       "        text-align: right;\n",
       "    }\n",
       "</style>\n",
       "<table border=\"1\" class=\"dataframe\">\n",
       "  <thead>\n",
       "    <tr style=\"text-align: right;\">\n",
       "      <th></th>\n",
       "      <th>number_of_reviews</th>\n",
       "      <th>security_deposit</th>\n",
       "      <th>House</th>\n",
       "    </tr>\n",
       "  </thead>\n",
       "  <tbody>\n",
       "    <tr>\n",
       "      <th>0</th>\n",
       "      <td>-0.099274</td>\n",
       "      <td>1.904157</td>\n",
       "      <td>1</td>\n",
       "    </tr>\n",
       "    <tr>\n",
       "      <th>1</th>\n",
       "      <td>-0.548357</td>\n",
       "      <td>0.373639</td>\n",
       "      <td>0</td>\n",
       "    </tr>\n",
       "    <tr>\n",
       "      <th>2</th>\n",
       "      <td>1.800691</td>\n",
       "      <td>-0.774249</td>\n",
       "      <td>0</td>\n",
       "    </tr>\n",
       "    <tr>\n",
       "      <th>3</th>\n",
       "      <td>-0.479267</td>\n",
       "      <td>1.904157</td>\n",
       "      <td>1</td>\n",
       "    </tr>\n",
       "    <tr>\n",
       "      <th>4</th>\n",
       "      <td>0.107994</td>\n",
       "      <td>-0.008990</td>\n",
       "      <td>1</td>\n",
       "    </tr>\n",
       "    <tr>\n",
       "      <th>...</th>\n",
       "      <td>...</td>\n",
       "      <td>...</td>\n",
       "      <td>...</td>\n",
       "    </tr>\n",
       "    <tr>\n",
       "      <th>304</th>\n",
       "      <td>-0.790171</td>\n",
       "      <td>-0.008990</td>\n",
       "      <td>1</td>\n",
       "    </tr>\n",
       "    <tr>\n",
       "      <th>305</th>\n",
       "      <td>-0.513812</td>\n",
       "      <td>-0.774249</td>\n",
       "      <td>0</td>\n",
       "    </tr>\n",
       "    <tr>\n",
       "      <th>306</th>\n",
       "      <td>-0.582902</td>\n",
       "      <td>-0.391619</td>\n",
       "      <td>0</td>\n",
       "    </tr>\n",
       "    <tr>\n",
       "      <th>307</th>\n",
       "      <td>0.073450</td>\n",
       "      <td>1.904157</td>\n",
       "      <td>1</td>\n",
       "    </tr>\n",
       "    <tr>\n",
       "      <th>308</th>\n",
       "      <td>-0.755626</td>\n",
       "      <td>-0.774249</td>\n",
       "      <td>1</td>\n",
       "    </tr>\n",
       "  </tbody>\n",
       "</table>\n",
       "<p>309 rows × 3 columns</p>\n",
       "</div>"
      ],
      "text/plain": [
       "     number_of_reviews  security_deposit  House\n",
       "0            -0.099274          1.904157      1\n",
       "1            -0.548357          0.373639      0\n",
       "2             1.800691         -0.774249      0\n",
       "3            -0.479267          1.904157      1\n",
       "4             0.107994         -0.008990      1\n",
       "..                 ...               ...    ...\n",
       "304          -0.790171         -0.008990      1\n",
       "305          -0.513812         -0.774249      0\n",
       "306          -0.582902         -0.391619      0\n",
       "307           0.073450          1.904157      1\n",
       "308          -0.755626         -0.774249      1\n",
       "\n",
       "[309 rows x 3 columns]"
      ]
     },
     "execution_count": 317,
     "metadata": {},
     "output_type": "execute_result"
    }
   ],
   "source": [
    "#iteration 4 (removed cleaning_fee)\n",
    "\n",
    "rem_revscore_price_cleaningfee_2 = rem_cleaningfee_2\n",
    "rem_numrev_3 = df_concat[['security_deposit', 'House']]\n",
    "rem_deposit_3 = df_concat[['number_of_reviews', 'House']]\n",
    "rem_house_3 = df_concat[['number_of_reviews', 'security_deposit']]\n",
    "rem_revscore_price_cleaningfee_2"
   ]
  },
  {
   "cell_type": "code",
   "execution_count": 318,
   "metadata": {},
   "outputs": [
    {
     "data": {
      "text/plain": [
       "0.5715832632280001"
      ]
     },
     "execution_count": 318,
     "metadata": {},
     "output_type": "execute_result"
    }
   ],
   "source": [
    "auc_revscore_3 = cross_val_score(log_reg_mod, rem_numrev_3, tar_arr, scoring = 'roc_auc', cv = cross_val)\n",
    "auc_revscore_3.mean()"
   ]
  },
  {
   "cell_type": "code",
   "execution_count": 319,
   "metadata": {},
   "outputs": [
    {
     "data": {
      "text/plain": [
       "0.6654304759567917"
      ]
     },
     "execution_count": 319,
     "metadata": {},
     "output_type": "execute_result"
    }
   ],
   "source": [
    "auc_deposit_3 = cross_val_score(log_reg_mod, rem_deposit_3, tar_arr, scoring = 'roc_auc', cv = cross_val)\n",
    "auc_deposit_3.mean()"
   ]
  },
  {
   "cell_type": "code",
   "execution_count": 320,
   "metadata": {},
   "outputs": [
    {
     "data": {
      "text/plain": [
       "0.5979671352039773"
      ]
     },
     "execution_count": 320,
     "metadata": {},
     "output_type": "execute_result"
    }
   ],
   "source": [
    "auc_house_3 = cross_val_score(log_reg_mod, rem_house_3, tar_arr, scoring = 'roc_auc', cv = cross_val)\n",
    "auc_house_3.mean()"
   ]
  },
  {
   "cell_type": "code",
   "execution_count": 321,
   "metadata": {},
   "outputs": [
    {
     "data": {
      "text/html": [
       "<div>\n",
       "<style scoped>\n",
       "    .dataframe tbody tr th:only-of-type {\n",
       "        vertical-align: middle;\n",
       "    }\n",
       "\n",
       "    .dataframe tbody tr th {\n",
       "        vertical-align: top;\n",
       "    }\n",
       "\n",
       "    .dataframe thead th {\n",
       "        text-align: right;\n",
       "    }\n",
       "</style>\n",
       "<table border=\"1\" class=\"dataframe\">\n",
       "  <thead>\n",
       "    <tr style=\"text-align: right;\">\n",
       "      <th></th>\n",
       "      <th>number_of_reviews</th>\n",
       "      <th>House</th>\n",
       "    </tr>\n",
       "  </thead>\n",
       "  <tbody>\n",
       "    <tr>\n",
       "      <th>0</th>\n",
       "      <td>-0.099274</td>\n",
       "      <td>1</td>\n",
       "    </tr>\n",
       "    <tr>\n",
       "      <th>1</th>\n",
       "      <td>-0.548357</td>\n",
       "      <td>0</td>\n",
       "    </tr>\n",
       "    <tr>\n",
       "      <th>2</th>\n",
       "      <td>1.800691</td>\n",
       "      <td>0</td>\n",
       "    </tr>\n",
       "    <tr>\n",
       "      <th>3</th>\n",
       "      <td>-0.479267</td>\n",
       "      <td>1</td>\n",
       "    </tr>\n",
       "    <tr>\n",
       "      <th>4</th>\n",
       "      <td>0.107994</td>\n",
       "      <td>1</td>\n",
       "    </tr>\n",
       "    <tr>\n",
       "      <th>...</th>\n",
       "      <td>...</td>\n",
       "      <td>...</td>\n",
       "    </tr>\n",
       "    <tr>\n",
       "      <th>304</th>\n",
       "      <td>-0.790171</td>\n",
       "      <td>1</td>\n",
       "    </tr>\n",
       "    <tr>\n",
       "      <th>305</th>\n",
       "      <td>-0.513812</td>\n",
       "      <td>0</td>\n",
       "    </tr>\n",
       "    <tr>\n",
       "      <th>306</th>\n",
       "      <td>-0.582902</td>\n",
       "      <td>0</td>\n",
       "    </tr>\n",
       "    <tr>\n",
       "      <th>307</th>\n",
       "      <td>0.073450</td>\n",
       "      <td>1</td>\n",
       "    </tr>\n",
       "    <tr>\n",
       "      <th>308</th>\n",
       "      <td>-0.755626</td>\n",
       "      <td>1</td>\n",
       "    </tr>\n",
       "  </tbody>\n",
       "</table>\n",
       "<p>309 rows × 2 columns</p>\n",
       "</div>"
      ],
      "text/plain": [
       "     number_of_reviews  House\n",
       "0            -0.099274      1\n",
       "1            -0.548357      0\n",
       "2             1.800691      0\n",
       "3            -0.479267      1\n",
       "4             0.107994      1\n",
       "..                 ...    ...\n",
       "304          -0.790171      1\n",
       "305          -0.513812      0\n",
       "306          -0.582902      0\n",
       "307           0.073450      1\n",
       "308          -0.755626      1\n",
       "\n",
       "[309 rows x 2 columns]"
      ]
     },
     "execution_count": 321,
     "metadata": {},
     "output_type": "execute_result"
    }
   ],
   "source": [
    "#iteration 5 (removed security_deposit)\n",
    "\n",
    "rem_revscore_price_cleaningfee_deposit_4 = rem_deposit_3\n",
    "rem_numrev_4 = df_concat[['House']]\n",
    "rem_house_4 = df_concat[['number_of_reviews']]\n",
    "rem_revscore_price_cleaningfee_deposit_4"
   ]
  },
  {
   "cell_type": "code",
   "execution_count": 322,
   "metadata": {},
   "outputs": [
    {
     "data": {
      "text/plain": [
       "0.6111562706299549"
      ]
     },
     "execution_count": 322,
     "metadata": {},
     "output_type": "execute_result"
    }
   ],
   "source": [
    "auc_revscore_4 = cross_val_score(log_reg_mod, rem_numrev_4, tar_arr, scoring = 'roc_auc', cv = cross_val)\n",
    "auc_revscore_4.mean()"
   ]
  },
  {
   "cell_type": "code",
   "execution_count": 323,
   "metadata": {},
   "outputs": [
    {
     "data": {
      "text/plain": [
       "0.5909796782165203"
      ]
     },
     "execution_count": 323,
     "metadata": {},
     "output_type": "execute_result"
    }
   ],
   "source": [
    "auc_house_4 = cross_val_score(log_reg_mod, rem_house_4, tar_arr, scoring = 'roc_auc', cv = cross_val)\n",
    "auc_house_4.mean()"
   ]
  },
  {
   "cell_type": "code",
   "execution_count": 324,
   "metadata": {},
   "outputs": [
    {
     "data": {
      "text/plain": [
       "0.6654304759567917"
      ]
     },
     "execution_count": 324,
     "metadata": {},
     "output_type": "execute_result"
    }
   ],
   "source": [
    "best_model = cross_val_score(log_reg_mod, rem_deposit_3, tar_arr, scoring = 'roc_auc', cv = cross_val)\n",
    "best_model.mean()"
   ]
  },
  {
   "cell_type": "markdown",
   "metadata": {},
   "source": [
    "## 7. Best Model Discussion"
   ]
  },
  {
   "cell_type": "markdown",
   "metadata": {},
   "source": [
    "We found that iteration #4 had the highest AUC and we decided to stop at iteration 4 to continue our exploration in the best model.\n",
    "\n",
    "\n"
   ]
  },
  {
   "cell_type": "code",
   "execution_count": 325,
   "metadata": {},
   "outputs": [
    {
     "name": "stdout",
     "output_type": "stream",
     "text": [
      "0.7993527508090615\n"
     ]
    },
    {
     "data": {
      "text/html": [
       "<div>\n",
       "<style scoped>\n",
       "    .dataframe tbody tr th:only-of-type {\n",
       "        vertical-align: middle;\n",
       "    }\n",
       "\n",
       "    .dataframe tbody tr th {\n",
       "        vertical-align: top;\n",
       "    }\n",
       "\n",
       "    .dataframe thead th {\n",
       "        text-align: right;\n",
       "    }\n",
       "</style>\n",
       "<table border=\"1\" class=\"dataframe\">\n",
       "  <thead>\n",
       "    <tr style=\"text-align: right;\">\n",
       "      <th></th>\n",
       "      <th>price</th>\n",
       "      <th>review_scores_rating</th>\n",
       "      <th>number_of_reviews</th>\n",
       "      <th>security_deposit</th>\n",
       "      <th>cleaning_fee</th>\n",
       "      <th>House</th>\n",
       "      <th>y</th>\n",
       "    </tr>\n",
       "  </thead>\n",
       "  <tbody>\n",
       "    <tr>\n",
       "      <th>53</th>\n",
       "      <td>-1.318176</td>\n",
       "      <td>-2.369922</td>\n",
       "      <td>-0.824716</td>\n",
       "      <td>0.756269</td>\n",
       "      <td>-0.677605</td>\n",
       "      <td>1</td>\n",
       "      <td>1</td>\n",
       "    </tr>\n",
       "    <tr>\n",
       "      <th>2</th>\n",
       "      <td>-0.494498</td>\n",
       "      <td>-0.216081</td>\n",
       "      <td>1.800691</td>\n",
       "      <td>-0.774249</td>\n",
       "      <td>-0.527426</td>\n",
       "      <td>0</td>\n",
       "      <td>1</td>\n",
       "    </tr>\n",
       "    <tr>\n",
       "      <th>254</th>\n",
       "      <td>-0.494498</td>\n",
       "      <td>1.130070</td>\n",
       "      <td>-0.721081</td>\n",
       "      <td>-1.156878</td>\n",
       "      <td>-1.128143</td>\n",
       "      <td>0</td>\n",
       "      <td>0</td>\n",
       "    </tr>\n",
       "    <tr>\n",
       "      <th>131</th>\n",
       "      <td>-0.719137</td>\n",
       "      <td>1.130070</td>\n",
       "      <td>-0.893805</td>\n",
       "      <td>-0.008990</td>\n",
       "      <td>0.223471</td>\n",
       "      <td>0</td>\n",
       "      <td>1</td>\n",
       "    </tr>\n",
       "    <tr>\n",
       "      <th>222</th>\n",
       "      <td>-1.018657</td>\n",
       "      <td>-1.831462</td>\n",
       "      <td>4.149739</td>\n",
       "      <td>-1.156878</td>\n",
       "      <td>-0.977964</td>\n",
       "      <td>0</td>\n",
       "      <td>1</td>\n",
       "    </tr>\n",
       "  </tbody>\n",
       "</table>\n",
       "</div>"
      ],
      "text/plain": [
       "        price  review_scores_rating  number_of_reviews  security_deposit  \\\n",
       "53  -1.318176             -2.369922          -0.824716          0.756269   \n",
       "2   -0.494498             -0.216081           1.800691         -0.774249   \n",
       "254 -0.494498              1.130070          -0.721081         -1.156878   \n",
       "131 -0.719137              1.130070          -0.893805         -0.008990   \n",
       "222 -1.018657             -1.831462           4.149739         -1.156878   \n",
       "\n",
       "     cleaning_fee  House  y  \n",
       "53      -0.677605      1  1  \n",
       "2       -0.527426      0  1  \n",
       "254     -1.128143      0  0  \n",
       "131      0.223471      0  1  \n",
       "222     -0.977964      0  1  "
      ]
     },
     "execution_count": 325,
     "metadata": {},
     "output_type": "execute_result"
    }
   ],
   "source": [
    "from sklearn.model_selection import train_test_split\n",
    "\n",
    "df_train, df_test = train_test_split(df_concat, test_size=0.2, random_state=207)\n",
    "print(df_train.shape[0]/df_concat.shape[0])\n",
    "df_train.head()"
   ]
  },
  {
   "cell_type": "code",
   "execution_count": 326,
   "metadata": {},
   "outputs": [
    {
     "name": "stdout",
     "output_type": "stream",
     "text": [
      "0.20064724919093851\n"
     ]
    },
    {
     "data": {
      "text/html": [
       "<div>\n",
       "<style scoped>\n",
       "    .dataframe tbody tr th:only-of-type {\n",
       "        vertical-align: middle;\n",
       "    }\n",
       "\n",
       "    .dataframe tbody tr th {\n",
       "        vertical-align: top;\n",
       "    }\n",
       "\n",
       "    .dataframe thead th {\n",
       "        text-align: right;\n",
       "    }\n",
       "</style>\n",
       "<table border=\"1\" class=\"dataframe\">\n",
       "  <thead>\n",
       "    <tr style=\"text-align: right;\">\n",
       "      <th></th>\n",
       "      <th>price</th>\n",
       "      <th>review_scores_rating</th>\n",
       "      <th>number_of_reviews</th>\n",
       "      <th>security_deposit</th>\n",
       "      <th>cleaning_fee</th>\n",
       "      <th>House</th>\n",
       "      <th>y</th>\n",
       "    </tr>\n",
       "  </thead>\n",
       "  <tbody>\n",
       "    <tr>\n",
       "      <th>82</th>\n",
       "      <td>-0.299810</td>\n",
       "      <td>1.130070</td>\n",
       "      <td>-0.651992</td>\n",
       "      <td>-1.003826</td>\n",
       "      <td>-0.977964</td>\n",
       "      <td>1</td>\n",
       "      <td>1</td>\n",
       "    </tr>\n",
       "    <tr>\n",
       "      <th>182</th>\n",
       "      <td>-0.569378</td>\n",
       "      <td>-1.562232</td>\n",
       "      <td>-0.859261</td>\n",
       "      <td>-1.156878</td>\n",
       "      <td>-0.527426</td>\n",
       "      <td>0</td>\n",
       "      <td>0</td>\n",
       "    </tr>\n",
       "    <tr>\n",
       "      <th>268</th>\n",
       "      <td>1.077979</td>\n",
       "      <td>-0.216081</td>\n",
       "      <td>-0.790171</td>\n",
       "      <td>0.373639</td>\n",
       "      <td>1.274726</td>\n",
       "      <td>1</td>\n",
       "      <td>1</td>\n",
       "    </tr>\n",
       "    <tr>\n",
       "      <th>32</th>\n",
       "      <td>-1.318176</td>\n",
       "      <td>-3.177613</td>\n",
       "      <td>-0.721081</td>\n",
       "      <td>0.756269</td>\n",
       "      <td>-0.677605</td>\n",
       "      <td>1</td>\n",
       "      <td>1</td>\n",
       "    </tr>\n",
       "    <tr>\n",
       "      <th>116</th>\n",
       "      <td>-0.120099</td>\n",
       "      <td>0.053149</td>\n",
       "      <td>-0.306543</td>\n",
       "      <td>-0.391619</td>\n",
       "      <td>0.523829</td>\n",
       "      <td>0</td>\n",
       "      <td>1</td>\n",
       "    </tr>\n",
       "  </tbody>\n",
       "</table>\n",
       "</div>"
      ],
      "text/plain": [
       "        price  review_scores_rating  number_of_reviews  security_deposit  \\\n",
       "82  -0.299810              1.130070          -0.651992         -1.003826   \n",
       "182 -0.569378             -1.562232          -0.859261         -1.156878   \n",
       "268  1.077979             -0.216081          -0.790171          0.373639   \n",
       "32  -1.318176             -3.177613          -0.721081          0.756269   \n",
       "116 -0.120099              0.053149          -0.306543         -0.391619   \n",
       "\n",
       "     cleaning_fee  House  y  \n",
       "82      -0.977964      1  1  \n",
       "182     -0.527426      0  0  \n",
       "268      1.274726      1  1  \n",
       "32      -0.677605      1  1  \n",
       "116      0.523829      0  1  "
      ]
     },
     "execution_count": 326,
     "metadata": {},
     "output_type": "execute_result"
    }
   ],
   "source": [
    "print(df_test.shape[0]/df_concat.shape[0])\n",
    "df_test.head()"
   ]
  },
  {
   "cell_type": "code",
   "execution_count": 327,
   "metadata": {},
   "outputs": [],
   "source": [
    "x_train = df_train[['number_of_reviews', 'House']]\n",
    "y_train = df_train['y']\n",
    "x_test = df_test[['number_of_reviews', 'House']]\n",
    "y_test = df_test['y']"
   ]
  },
  {
   "cell_type": "code",
   "execution_count": 328,
   "metadata": {},
   "outputs": [
    {
     "data": {
      "text/plain": [
       "LogisticRegression(max_iter=1000, penalty='none', solver='newton-cg')"
      ]
     },
     "execution_count": 328,
     "metadata": {},
     "output_type": "execute_result"
    }
   ],
   "source": [
    "best_model = LogisticRegression(penalty='none', solver='newton-cg', max_iter=1000)\n",
    "best_model.fit(x_train, y_train)"
   ]
  },
  {
   "cell_type": "code",
   "execution_count": 329,
   "metadata": {},
   "outputs": [
    {
     "data": {
      "text/html": [
       "<div>\n",
       "<style scoped>\n",
       "    .dataframe tbody tr th:only-of-type {\n",
       "        vertical-align: middle;\n",
       "    }\n",
       "\n",
       "    .dataframe tbody tr th {\n",
       "        vertical-align: top;\n",
       "    }\n",
       "\n",
       "    .dataframe thead th {\n",
       "        text-align: right;\n",
       "    }\n",
       "</style>\n",
       "<table border=\"1\" class=\"dataframe\">\n",
       "  <thead>\n",
       "    <tr style=\"text-align: right;\">\n",
       "      <th></th>\n",
       "      <th>Elimination</th>\n",
       "    </tr>\n",
       "  </thead>\n",
       "  <tbody>\n",
       "    <tr>\n",
       "      <th>number_of_reviews</th>\n",
       "      <td>0.304616</td>\n",
       "    </tr>\n",
       "    <tr>\n",
       "      <th>House</th>\n",
       "      <td>1.012919</td>\n",
       "    </tr>\n",
       "    <tr>\n",
       "      <th>Intercept</th>\n",
       "      <td>1.603476</td>\n",
       "    </tr>\n",
       "  </tbody>\n",
       "</table>\n",
       "</div>"
      ],
      "text/plain": [
       "                   Elimination\n",
       "number_of_reviews     0.304616\n",
       "House                 1.012919\n",
       "Intercept             1.603476"
      ]
     },
     "execution_count": 329,
     "metadata": {},
     "output_type": "execute_result"
    }
   ],
   "source": [
    "dfcoef = pd.DataFrame(best_model.coef_.T, columns=['Elimination'], index=x_train.columns)\n",
    "dfcoef.loc['Intercept'] = best_model.intercept_[0]\n",
    "dfcoef"
   ]
  },
  {
   "cell_type": "markdown",
   "metadata": {},
   "source": [
    "$\\hat{y}=\\frac{1}{1+e^{-(1.603476 + 0.304616*number\\_of\\_reviews + 1.012919*House)}}$"
   ]
  },
  {
   "cell_type": "code",
   "execution_count": 330,
   "metadata": {},
   "outputs": [
    {
     "data": {
      "text/html": [
       "<div>\n",
       "<style scoped>\n",
       "    .dataframe tbody tr th:only-of-type {\n",
       "        vertical-align: middle;\n",
       "    }\n",
       "\n",
       "    .dataframe tbody tr th {\n",
       "        vertical-align: top;\n",
       "    }\n",
       "\n",
       "    .dataframe thead th {\n",
       "        text-align: right;\n",
       "    }\n",
       "</style>\n",
       "<table border=\"1\" class=\"dataframe\">\n",
       "  <thead>\n",
       "    <tr style=\"text-align: right;\">\n",
       "      <th></th>\n",
       "      <th>number_of_reviews</th>\n",
       "      <th>House</th>\n",
       "    </tr>\n",
       "  </thead>\n",
       "  <tbody>\n",
       "    <tr>\n",
       "      <th>number_of_reviews</th>\n",
       "      <td>1.000000</td>\n",
       "      <td>-0.043532</td>\n",
       "    </tr>\n",
       "    <tr>\n",
       "      <th>House</th>\n",
       "      <td>-0.043532</td>\n",
       "      <td>1.000000</td>\n",
       "    </tr>\n",
       "  </tbody>\n",
       "</table>\n",
       "</div>"
      ],
      "text/plain": [
       "                   number_of_reviews     House\n",
       "number_of_reviews           1.000000 -0.043532\n",
       "House                      -0.043532  1.000000"
      ]
     },
     "execution_count": 330,
     "metadata": {},
     "output_type": "execute_result"
    }
   ],
   "source": [
    "df_test[['number_of_reviews', 'House']].corr()"
   ]
  },
  {
   "cell_type": "markdown",
   "metadata": {},
   "source": [
    "Multicollinearity: \n",
    "The low correlation between 'number_of_reviews' and 'House' indicates there's no multicollinearity according to our threshold of 0.7. This means these variables can be used together in our model without the risk of inflating the estimates due to overlapping information."
   ]
  },
  {
   "cell_type": "markdown",
   "metadata": {},
   "source": [
    "Slope Interpretations\n",
    "\n",
    "We found that number_of_reviews has the odd of 1.3561 and that means it doesn't give a big influence on identity verified with each additional review increasing the odds by about 3.6%. On the other hand, the odds ratio for 'House' is 2.7536 that is suggesting a stronger influence than the odd of 1.029 that number_of_reviews has, with houses having a 17.5% higher odds of the response variable occurring compared to the baseline. Hence, we concluded that \"House\" has the larger effect on the probability of the outcome.\n",
    "\n",
    "\n",
    "Overfitting Explanatory Variables:\n",
    "\n",
    "Based on our feature selection, we suggested that the \"best model\" (AUC of 0.772) probably left out variables that led to overfitting. High p-values suggest that these overfitting factors had weak associations with the response variable, or they may have had significant correlations with other explanatory variables. If it is fixed then the model would now be more straightforward, which decreases overfitting and increases its ability to predict future data. Through the feature selection process, the most valuable predictors, like \"House\" or \"number_of_reviews,\" were able to be taken out of the model, offering a more complete and dependable forecasting tool for the response variable."
   ]
  },
  {
   "cell_type": "code",
   "execution_count": 331,
   "metadata": {},
   "outputs": [
    {
     "data": {
      "text/html": [
       "<div>\n",
       "<style scoped>\n",
       "    .dataframe tbody tr th:only-of-type {\n",
       "        vertical-align: middle;\n",
       "    }\n",
       "\n",
       "    .dataframe tbody tr th {\n",
       "        vertical-align: top;\n",
       "    }\n",
       "\n",
       "    .dataframe thead th {\n",
       "        text-align: right;\n",
       "    }\n",
       "</style>\n",
       "<table border=\"1\" class=\"dataframe\">\n",
       "  <thead>\n",
       "    <tr style=\"text-align: right;\">\n",
       "      <th></th>\n",
       "      <th>predictive_prob</th>\n",
       "      <th>y</th>\n",
       "    </tr>\n",
       "  </thead>\n",
       "  <tbody>\n",
       "    <tr>\n",
       "      <th>82</th>\n",
       "      <td>1</td>\n",
       "      <td>1</td>\n",
       "    </tr>\n",
       "    <tr>\n",
       "      <th>182</th>\n",
       "      <td>1</td>\n",
       "      <td>0</td>\n",
       "    </tr>\n",
       "    <tr>\n",
       "      <th>268</th>\n",
       "      <td>1</td>\n",
       "      <td>1</td>\n",
       "    </tr>\n",
       "    <tr>\n",
       "      <th>32</th>\n",
       "      <td>1</td>\n",
       "      <td>1</td>\n",
       "    </tr>\n",
       "    <tr>\n",
       "      <th>116</th>\n",
       "      <td>1</td>\n",
       "      <td>1</td>\n",
       "    </tr>\n",
       "  </tbody>\n",
       "</table>\n",
       "</div>"
      ],
      "text/plain": [
       "     predictive_prob  y\n",
       "82                 1  1\n",
       "182                1  0\n",
       "268                1  1\n",
       "32                 1  1\n",
       "116                1  1"
      ]
     },
     "execution_count": 331,
     "metadata": {},
     "output_type": "execute_result"
    }
   ],
   "source": [
    "df_test['predictive_prob'] = best_model.predict(x_test)\n",
    "df_test[['predictive_prob', 'y']].head()"
   ]
  },
  {
   "cell_type": "code",
   "execution_count": 332,
   "metadata": {},
   "outputs": [
    {
     "data": {
      "image/png": "[encoded data removed]",
      "text/plain": [
       "<Figure size 432x288 with 1 Axes>"
      ]
     },
     "metadata": {
      "needs_background": "light"
     },
     "output_type": "display_data"
    }
   ],
   "source": [
    "from sklearn.metrics import roc_auc_score, roc_curve\n",
    "\n",
    "predictive_probs_test = best_model.predict_proba(x_test)[:,1]\n",
    "\n",
    "fprs, tprs, thresholds = roc_curve(y_true=y_test, y_score=predictive_probs_test)\n",
    "auc = roc_auc_score(y_true=y_test, y_score=predictive_probs_test)\n",
    "\n",
    "def plot_roc(fpr, tpr, auc, lw=2):\n",
    "    plt.plot(fpr, tpr, color='darkorange', lw=lw,\n",
    "             label='ROC curve (area = '+str(round(auc,3))+')')\n",
    "    plt.plot([0, 1], [0, 1], color='navy', lw=lw, linestyle='--')\n",
    "    plt.xlabel('False Positive Rate')\n",
    "    plt.ylabel('True Positive Rate')\n",
    "    plt.title('ROC Curve')\n",
    "    plt.legend(loc=\"lower right\")\n",
    "    plt.show()\n",
    "plot_roc(fprs, tprs, auc)"
   ]
  },
  {
   "cell_type": "markdown",
   "metadata": {},
   "source": [
    "Now we've made the ROC curve, we understood that the ROC curve and an AUC of 0.772 indicates that the best logistic regression model has a good ability to distinguish between the two classes of the response variable in the test dataset. The model's overall performance values closer to 1 suggest a high predictive accuracy as AUC had measure of 0 to 1. With an AUC well above 0.5, which would be random guessing, this model is considered to have a strong classification ability for this particular dataset.\n",
    "\n",
    "\n",
    "\n",
    "\n",
    "\n",
    "\n"
   ]
  },
  {
   "cell_type": "markdown",
   "metadata": {},
   "source": [
    "Best Predictive Probability Threshold:\n",
    "Now as we understood the model's ability, let's look into selecting a predictive probability threshold that best meets our research goal. We think our threshold of (FPR, TPR) = (0.4, 0.9) supports a prioritization of accurately identifying verified hosts on Airbnb. The model's sensitivity is shown through the high True Positive Rate (90%) and this means 90% of verified hosts. The threshold indicates a high False Positive Rate of 40% as well. This could mean that some people might have been mistakenly confirmed as verified. This choice supports the study objective that places a higher priority on capturing verified hosts."
   ]
  },
  {
   "cell_type": "markdown",
   "metadata": {},
   "source": [
    "## 8. Additional Analysis/Insight"
   ]
  },
  {
   "cell_type": "markdown",
   "metadata": {},
   "source": [
    "Our primary research goal that we pursued in this project was to build a predictive model that effectively predicts the `probability a Seattle Airbnb host is  **verified**` for *new Seattle Airbnb listings/hosts* given some combination of the `'price', 'review_scores_rating', 'number_of_reviews', 'security_deposit', 'cleaning_fee', 'property_type'`.\n",
    "Now we have come to a conclusion, we wanted to add a scatterplot that will help us understand whether guests consistently rate certain types of properties higher or whether they tend to leave more reviews on certain properties. Through looking between number_of_reviews as well as the review_scores_rating, we can see which type of property is most likely to be checked out. Hence, when we know which property_type is more checked out, it could be a valuable information insights for our goal."
   ]
  },
  {
   "cell_type": "code",
   "execution_count": 333,
   "metadata": {},
   "outputs": [
    {
     "data": {
      "image/png": "[encoded data removed]",
      "text/plain": [
       "<Figure size 432x288 with 1 Axes>"
      ]
     },
     "metadata": {
      "needs_background": "light"
     },
     "output_type": "display_data"
    }
   ],
   "source": [
    "sns.scatterplot(x='review_scores_rating', y='number_of_reviews', hue='property_type', data=df_drop)\n",
    "plt.show()"
   ]
  },
  {
   "cell_type": "markdown",
   "metadata": {},
   "source": [
    "## 9. Conclusion"
   ]
  },
  {
   "cell_type": "markdown",
   "metadata": {},
   "source": [
    "Recommendation\n",
    "\n",
    "We do not know for sure our chosen best model will yield the highest possible average test AUC out of all possible models with this dataset as we only selected 6 our of 15 variables(excluded response variable verified) to create our model. A more complete analysis would have analyzed the correlation of all variables prior to selecting only the variables that are not highly correlated & demonstrate a significant impact on the outcome to avoid issues such as multicollinearity and overfitting. The more complete analysis would also use multiple methods for variable selection to reduce present bias. \n",
    "\n",
    "Shortcomings/Caveats\n",
    "\n",
    "A shortcoming we had during this analysis occured while conducting our backward elimination method. We found it difficult to keep track and ensure we were entering and removing the correct variables as we had 5 total iterations with 6 variables. Because our method may remove variables correlated to the response variable in early iterations, our model, we realize our model is unlikely to be the best for new datasets. \n",
    "\n",
    "\n",
    "Future Work\n",
    "\n",
    "One idea for future work would be to conduct another analysis using another logistic regression method such as LASSO regression model to predict the response variable using new datasets. A LASSO model method is least likely to overfit as it is allowed to zero out slopes that do not bring enough predictive power, potentially improving the model's generalization ability.\n"
   ]
  },
  {
   "cell_type": "markdown",
   "metadata": {},
   "source": [
    "## References"
   ]
  },
  {
   "cell_type": "markdown",
   "metadata": {},
   "source": [
    "We originally found this dataset in our STAT 207 course assignments, but it is sourced from the website Inside Airbnb.\n",
    "Source link:http://insideairbnb.com/get-the-data/\n",
    "We downloaded this CSV file November 2023.\n",
    "\n",
    "Citations:\n",
    "* Krones, T. (2023, October 16). Airbnb ID Verification Time: A Guide for Hosts. Host Tools. https://hosttools.com/blog/short-term-rental-tips/airbnb-id-verification/#:~:text=Guests%20prefer%20to%20stay%20with,a%20home%20or%20Airbnb%20Experience\n",
    "* Airbnb, Inc., https://www.airbnb.com/help/article/1237#:~:text=Verifying%20the%20identity%20of%20guests,where%20permitted%20under%20applicable%20laws\n"
   ]
  }
 ],
 "metadata": {
  "kernelspec": {
   "display_name": "Python 3 (ipykernel)",
   "language": "python",
   "name": "python3"
  },
  "language_info": {
   "codemirror_mode": {
    "name": "ipython",
    "version": 3
   },
   "file_extension": ".py",
   "mimetype": "text/x-python",
   "name": "python",
   "nbconvert_exporter": "python",
   "pygments_lexer": "ipython3",
   "version": "3.11.4"
  }
 },
 "nbformat": 4,
 "nbformat_minor": 4
}
